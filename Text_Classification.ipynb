{
  "nbformat": 4,
  "nbformat_minor": 0,
  "metadata": {
    "colab": {
      "provenance": [],
      "collapsed_sections": [
        "r57Zwg76RD38",
        "gIrG9q9XTU7B",
        "sjt6n1TJRVPH",
        "w-ZTkGjO6ymW",
        "4kYpXwe_my0I",
        "G835ij_Knkcu",
        "uxvuj3hRnrQh"
      ],
      "authorship_tag": "ABX9TyOVT+3+mHDd47s373funY3X",
      "include_colab_link": true
    },
    "kernelspec": {
      "name": "python3",
      "display_name": "Python 3"
    },
    "language_info": {
      "name": "python"
    }
  },
  "cells": [
    {
      "cell_type": "markdown",
      "metadata": {
        "id": "view-in-github",
        "colab_type": "text"
      },
      "source": [
        "<a href=\"https://colab.research.google.com/github/BrouthenKamel/Text-Classification/blob/main/Text_Classification.ipynb\" target=\"_parent\"><img src=\"https://colab.research.google.com/assets/colab-badge.svg\" alt=\"Open In Colab\"/></a>"
      ]
    },
    {
      "cell_type": "markdown",
      "source": [
        "### Importing needed modules\n"
      ],
      "metadata": {
        "id": "r57Zwg76RD38"
      }
    },
    {
      "cell_type": "code",
      "execution_count": 1,
      "metadata": {
        "id": "imknd_T_QxKV"
      },
      "outputs": [],
      "source": [
        "import pandas as pd\n",
        "import numpy as np\n",
        "import matplotlib.pyplot as plt"
      ]
    },
    {
      "cell_type": "markdown",
      "source": [
        "### Loading the dataset"
      ],
      "metadata": {
        "id": "gIrG9q9XTU7B"
      }
    },
    {
      "cell_type": "code",
      "source": [
        "data_url = \"https://drive.google.com/file/d/1YByxDNQoDFbLIwNtA9nEEDfG7fFB4zjT/view?usp=share_link\"\n",
        "data_path = \"/content/text_topics.csv\""
      ],
      "metadata": {
        "id": "yP-cYw4rSCr3"
      },
      "execution_count": 2,
      "outputs": []
    },
    {
      "cell_type": "code",
      "source": [
        "data = pd.read_csv(data_path)"
      ],
      "metadata": {
        "id": "d-sujZzKRdAV"
      },
      "execution_count": 3,
      "outputs": []
    },
    {
      "cell_type": "markdown",
      "source": [
        "### Discovering the dataset"
      ],
      "metadata": {
        "id": "sjt6n1TJRVPH"
      }
    },
    {
      "cell_type": "code",
      "source": [
        "data.head()"
      ],
      "metadata": {
        "colab": {
          "base_uri": "https://localhost:8080/",
          "height": 206
        },
        "id": "37ajej8J6V5X",
        "outputId": "c5e4de4b-0118-4aa0-9037-be37743d1d3f"
      },
      "execution_count": 4,
      "outputs": [
        {
          "output_type": "execute_result",
          "data": {
            "text/plain": [
              "                                                text        date  \\\n",
              "0  Barbara Bailey is the queen of broadcast news ...  2020-09-04   \n",
              "1  start the 20-21 school year off POSITIVE! let’...  2020-09-05   \n",
              "2  Worth watching at least the 1st 10mins if I wa...  2020-09-06   \n",
              "3  There s regular people and then there s {@Bail...  2020-09-06   \n",
              "4  Up with new grace, truly sorry on behalf of {@...  2020-09-06   \n",
              "\n",
              "                                              topics                   id  \n",
              "0        ['film_tv_&_video' 'news_&_social_concern']  1301943102094139393  \n",
              "1    ['diaries_&_daily_life' 'youth_&_student_life']  1302275052256342017  \n",
              "2        ['film_tv_&_video' 'news_&_social_concern']  1302450647422259205  \n",
              "3                        ['celebrity_&_pop_culture']  1302452496011595776  \n",
              "4  ['celebrity_&_pop_culture' 'fitness_&_health' ...  1302479114469867520  "
            ],
            "text/html": [
              "\n",
              "  <div id=\"df-78d28a95-c00a-4293-b350-e2b394dd0465\">\n",
              "    <div class=\"colab-df-container\">\n",
              "      <div>\n",
              "<style scoped>\n",
              "    .dataframe tbody tr th:only-of-type {\n",
              "        vertical-align: middle;\n",
              "    }\n",
              "\n",
              "    .dataframe tbody tr th {\n",
              "        vertical-align: top;\n",
              "    }\n",
              "\n",
              "    .dataframe thead th {\n",
              "        text-align: right;\n",
              "    }\n",
              "</style>\n",
              "<table border=\"1\" class=\"dataframe\">\n",
              "  <thead>\n",
              "    <tr style=\"text-align: right;\">\n",
              "      <th></th>\n",
              "      <th>text</th>\n",
              "      <th>date</th>\n",
              "      <th>topics</th>\n",
              "      <th>id</th>\n",
              "    </tr>\n",
              "  </thead>\n",
              "  <tbody>\n",
              "    <tr>\n",
              "      <th>0</th>\n",
              "      <td>Barbara Bailey is the queen of broadcast news ...</td>\n",
              "      <td>2020-09-04</td>\n",
              "      <td>['film_tv_&amp;_video' 'news_&amp;_social_concern']</td>\n",
              "      <td>1301943102094139393</td>\n",
              "    </tr>\n",
              "    <tr>\n",
              "      <th>1</th>\n",
              "      <td>start the 20-21 school year off POSITIVE! let’...</td>\n",
              "      <td>2020-09-05</td>\n",
              "      <td>['diaries_&amp;_daily_life' 'youth_&amp;_student_life']</td>\n",
              "      <td>1302275052256342017</td>\n",
              "    </tr>\n",
              "    <tr>\n",
              "      <th>2</th>\n",
              "      <td>Worth watching at least the 1st 10mins if I wa...</td>\n",
              "      <td>2020-09-06</td>\n",
              "      <td>['film_tv_&amp;_video' 'news_&amp;_social_concern']</td>\n",
              "      <td>1302450647422259205</td>\n",
              "    </tr>\n",
              "    <tr>\n",
              "      <th>3</th>\n",
              "      <td>There s regular people and then there s {@Bail...</td>\n",
              "      <td>2020-09-06</td>\n",
              "      <td>['celebrity_&amp;_pop_culture']</td>\n",
              "      <td>1302452496011595776</td>\n",
              "    </tr>\n",
              "    <tr>\n",
              "      <th>4</th>\n",
              "      <td>Up with new grace, truly sorry on behalf of {@...</td>\n",
              "      <td>2020-09-06</td>\n",
              "      <td>['celebrity_&amp;_pop_culture' 'fitness_&amp;_health' ...</td>\n",
              "      <td>1302479114469867520</td>\n",
              "    </tr>\n",
              "  </tbody>\n",
              "</table>\n",
              "</div>\n",
              "      <button class=\"colab-df-convert\" onclick=\"convertToInteractive('df-78d28a95-c00a-4293-b350-e2b394dd0465')\"\n",
              "              title=\"Convert this dataframe to an interactive table.\"\n",
              "              style=\"display:none;\">\n",
              "        \n",
              "  <svg xmlns=\"http://www.w3.org/2000/svg\" height=\"24px\"viewBox=\"0 0 24 24\"\n",
              "       width=\"24px\">\n",
              "    <path d=\"M0 0h24v24H0V0z\" fill=\"none\"/>\n",
              "    <path d=\"M18.56 5.44l.94 2.06.94-2.06 2.06-.94-2.06-.94-.94-2.06-.94 2.06-2.06.94zm-11 1L8.5 8.5l.94-2.06 2.06-.94-2.06-.94L8.5 2.5l-.94 2.06-2.06.94zm10 10l.94 2.06.94-2.06 2.06-.94-2.06-.94-.94-2.06-.94 2.06-2.06.94z\"/><path d=\"M17.41 7.96l-1.37-1.37c-.4-.4-.92-.59-1.43-.59-.52 0-1.04.2-1.43.59L10.3 9.45l-7.72 7.72c-.78.78-.78 2.05 0 2.83L4 21.41c.39.39.9.59 1.41.59.51 0 1.02-.2 1.41-.59l7.78-7.78 2.81-2.81c.8-.78.8-2.07 0-2.86zM5.41 20L4 18.59l7.72-7.72 1.47 1.35L5.41 20z\"/>\n",
              "  </svg>\n",
              "      </button>\n",
              "      \n",
              "  <style>\n",
              "    .colab-df-container {\n",
              "      display:flex;\n",
              "      flex-wrap:wrap;\n",
              "      gap: 12px;\n",
              "    }\n",
              "\n",
              "    .colab-df-convert {\n",
              "      background-color: #E8F0FE;\n",
              "      border: none;\n",
              "      border-radius: 50%;\n",
              "      cursor: pointer;\n",
              "      display: none;\n",
              "      fill: #1967D2;\n",
              "      height: 32px;\n",
              "      padding: 0 0 0 0;\n",
              "      width: 32px;\n",
              "    }\n",
              "\n",
              "    .colab-df-convert:hover {\n",
              "      background-color: #E2EBFA;\n",
              "      box-shadow: 0px 1px 2px rgba(60, 64, 67, 0.3), 0px 1px 3px 1px rgba(60, 64, 67, 0.15);\n",
              "      fill: #174EA6;\n",
              "    }\n",
              "\n",
              "    [theme=dark] .colab-df-convert {\n",
              "      background-color: #3B4455;\n",
              "      fill: #D2E3FC;\n",
              "    }\n",
              "\n",
              "    [theme=dark] .colab-df-convert:hover {\n",
              "      background-color: #434B5C;\n",
              "      box-shadow: 0px 1px 3px 1px rgba(0, 0, 0, 0.15);\n",
              "      filter: drop-shadow(0px 1px 2px rgba(0, 0, 0, 0.3));\n",
              "      fill: #FFFFFF;\n",
              "    }\n",
              "  </style>\n",
              "\n",
              "      <script>\n",
              "        const buttonEl =\n",
              "          document.querySelector('#df-78d28a95-c00a-4293-b350-e2b394dd0465 button.colab-df-convert');\n",
              "        buttonEl.style.display =\n",
              "          google.colab.kernel.accessAllowed ? 'block' : 'none';\n",
              "\n",
              "        async function convertToInteractive(key) {\n",
              "          const element = document.querySelector('#df-78d28a95-c00a-4293-b350-e2b394dd0465');\n",
              "          const dataTable =\n",
              "            await google.colab.kernel.invokeFunction('convertToInteractive',\n",
              "                                                     [key], {});\n",
              "          if (!dataTable) return;\n",
              "\n",
              "          const docLinkHtml = 'Like what you see? Visit the ' +\n",
              "            '<a target=\"_blank\" href=https://colab.research.google.com/notebooks/data_table.ipynb>data table notebook</a>'\n",
              "            + ' to learn more about interactive tables.';\n",
              "          element.innerHTML = '';\n",
              "          dataTable['output_type'] = 'display_data';\n",
              "          await google.colab.output.renderOutput(dataTable, element);\n",
              "          const docLink = document.createElement('div');\n",
              "          docLink.innerHTML = docLinkHtml;\n",
              "          element.appendChild(docLink);\n",
              "        }\n",
              "      </script>\n",
              "    </div>\n",
              "  </div>\n",
              "  "
            ]
          },
          "metadata": {},
          "execution_count": 4
        }
      ]
    },
    {
      "cell_type": "code",
      "source": [
        "data.info()"
      ],
      "metadata": {
        "colab": {
          "base_uri": "https://localhost:8080/"
        },
        "id": "lvtTJR9_6eDg",
        "outputId": "7a5feae9-97d4-4694-c823-6c34cc236c24"
      },
      "execution_count": 5,
      "outputs": [
        {
          "output_type": "stream",
          "name": "stdout",
          "text": [
            "<class 'pandas.core.frame.DataFrame'>\n",
            "RangeIndex: 1505 entries, 0 to 1504\n",
            "Data columns (total 4 columns):\n",
            " #   Column  Non-Null Count  Dtype \n",
            "---  ------  --------------  ----- \n",
            " 0   text    1505 non-null   object\n",
            " 1   date    1505 non-null   object\n",
            " 2   topics  1505 non-null   object\n",
            " 3   id      1505 non-null   int64 \n",
            "dtypes: int64(1), object(3)\n",
            "memory usage: 47.2+ KB\n"
          ]
        }
      ]
    },
    {
      "cell_type": "markdown",
      "source": [
        "### Exploring the features"
      ],
      "metadata": {
        "id": "w-ZTkGjO6ymW"
      }
    },
    {
      "cell_type": "code",
      "source": [
        "columns = data.columns\n",
        "columns"
      ],
      "metadata": {
        "colab": {
          "base_uri": "https://localhost:8080/"
        },
        "id": "GKL4i6KE6uOT",
        "outputId": "151cb9c6-32e1-4f8c-9c7f-5ddd74d08a67"
      },
      "execution_count": 6,
      "outputs": [
        {
          "output_type": "execute_result",
          "data": {
            "text/plain": [
              "Index(['text', 'date', 'topics', 'id'], dtype='object')"
            ]
          },
          "metadata": {},
          "execution_count": 6
        }
      ]
    },
    {
      "cell_type": "code",
      "source": [
        "data['topics'].unique()"
      ],
      "metadata": {
        "colab": {
          "base_uri": "https://localhost:8080/"
        },
        "id": "LsUyiWNe6_Tz",
        "outputId": "caa05e26-8118-40e0-d0bf-e09636420b4e"
      },
      "execution_count": 7,
      "outputs": [
        {
          "output_type": "execute_result",
          "data": {
            "text/plain": [
              "array([\"['film_tv_&_video' 'news_&_social_concern']\",\n",
              "       \"['diaries_&_daily_life' 'youth_&_student_life']\",\n",
              "       \"['celebrity_&_pop_culture']\",\n",
              "       \"['celebrity_&_pop_culture' 'fitness_&_health' 'news_&_social_concern']\",\n",
              "       \"['news_&_social_concern' 'sports']\", \"['film_tv_&_video']\",\n",
              "       \"['arts_&_culture' 'learning_&_educational']\",\n",
              "       \"['business_&_entrepreneurs' 'fashion_&_style' 'other_hobbies']\",\n",
              "       \"['celebrity_&_pop_culture' 'music']\",\n",
              "       \"['diaries_&_daily_life' 'news_&_social_concern' 'other_hobbies']\",\n",
              "       \"['business_&_entrepreneurs' 'other_hobbies']\", \"['sports']\",\n",
              "       \"['arts_&_culture' 'fashion_&_style']\",\n",
              "       \"['diaries_&_daily_life' 'news_&_social_concern']\",\n",
              "       \"['diaries_&_daily_life']\",\n",
              "       \"['celebrity_&_pop_culture' 'film_tv_&_video']\",\n",
              "       \"['gaming' 'sports']\", \"['business_&_entrepreneurs']\", \"['music']\",\n",
              "       \"['diaries_&_daily_life' 'fashion_&_style']\",\n",
              "       \"['celebrity_&_pop_culture' 'news_&_social_concern']\",\n",
              "       \"['food_&_dining' 'sports']\",\n",
              "       \"['learning_&_educational' 'sports']\",\n",
              "       \"['other_hobbies' 'sports']\", \"['gaming']\",\n",
              "       \"['film_tv_&_video' 'music']\", \"['science_&_technology']\",\n",
              "       \"['diaries_&_daily_life' 'other_hobbies']\", \"['other_hobbies']\",\n",
              "       \"['business_&_entrepreneurs' 'food_&_dining']\",\n",
              "       \"['business_&_entrepreneurs' 'fitness_&_health']\",\n",
              "       \"['fitness_&_health' 'learning_&_educational' 'news_&_social_concern'\\n 'science_&_technology']\",\n",
              "       \"['celebrity_&_pop_culture' 'film_tv_&_video' 'news_&_social_concern']\",\n",
              "       \"['gaming' 'news_&_social_concern' 'sports']\",\n",
              "       \"['gaming' 'news_&_social_concern']\",\n",
              "       \"['news_&_social_concern' 'science_&_technology']\",\n",
              "       \"['business_&_entrepreneurs' 'fashion_&_style']\",\n",
              "       \"['learning_&_educational' 'science_&_technology']\",\n",
              "       \"['music' 'news_&_social_concern']\",\n",
              "       \"['celebrity_&_pop_culture' 'film_tv_&_video' 'music']\",\n",
              "       \"['celebrity_&_pop_culture' 'fashion_&_style' 'film_tv_&_video' 'music']\",\n",
              "       \"['celebrity_&_pop_culture' 'fashion_&_style' 'music']\",\n",
              "       \"['relationships' 'sports']\",\n",
              "       \"['diaries_&_daily_life' 'travel_&_adventure']\",\n",
              "       \"['sports' 'travel_&_adventure']\", \"['fitness_&_health' 'sports']\",\n",
              "       \"['fitness_&_health' 'news_&_social_concern' 'science_&_technology']\",\n",
              "       \"['news_&_social_concern']\",\n",
              "       \"['business_&_entrepreneurs' 'news_&_social_concern']\",\n",
              "       \"['diaries_&_daily_life' 'news_&_social_concern' 'youth_&_student_life']\",\n",
              "       \"['news_&_social_concern' 'other_hobbies' 'sports']\",\n",
              "       \"['diaries_&_daily_life' 'fashion_&_style' 'other_hobbies']\",\n",
              "       \"['news_&_social_concern' 'other_hobbies']\",\n",
              "       \"['celebrity_&_pop_culture' 'fashion_&_style' 'other_hobbies']\",\n",
              "       \"['celebrity_&_pop_culture' 'food_&_dining' 'other_hobbies']\",\n",
              "       \"['film_tv_&_video' 'news_&_social_concern' 'other_hobbies']\",\n",
              "       \"['film_tv_&_video' 'other_hobbies']\",\n",
              "       \"['arts_&_culture' 'news_&_social_concern']\", \"['arts_&_culture']\",\n",
              "       \"['fitness_&_health' 'music']\",\n",
              "       \"['diaries_&_daily_life' 'other_hobbies' 'relationships']\",\n",
              "       \"['arts_&_culture' 'learning_&_educational' 'other_hobbies']\",\n",
              "       \"['celebrity_&_pop_culture' 'news_&_social_concern' 'other_hobbies']\",\n",
              "       \"['celebrity_&_pop_culture' 'fitness_&_health' 'music']\",\n",
              "       \"['arts_&_culture' 'learning_&_educational' 'news_&_social_concern']\",\n",
              "       \"['celebrity_&_pop_culture' 'music' 'news_&_social_concern']\",\n",
              "       \"['celebrity_&_pop_culture' 'fitness_&_health']\",\n",
              "       \"['family' 'relationships']\",\n",
              "       \"['diaries_&_daily_life' 'family' 'other_hobbies' 'relationships']\",\n",
              "       \"['fashion_&_style']\",\n",
              "       \"['celebrity_&_pop_culture' 'music' 'relationships']\",\n",
              "       \"['business_&_entrepreneurs' 'relationships']\",\n",
              "       \"['fashion_&_style' 'sports']\",\n",
              "       \"['diaries_&_daily_life' 'learning_&_educational']\",\n",
              "       \"['arts_&_culture' 'other_hobbies']\", \"['food_&_dining' 'music']\",\n",
              "       \"['celebrity_&_pop_culture' 'other_hobbies' 'travel_&_adventure']\",\n",
              "       \"['music' 'other_hobbies']\",\n",
              "       \"['arts_&_culture' 'other_hobbies' 'relationships']\",\n",
              "       \"['family' 'food_&_dining']\",\n",
              "       \"['diaries_&_daily_life' 'learning_&_educational' 'other_hobbies']\",\n",
              "       \"['diaries_&_daily_life' 'food_&_dining']\",\n",
              "       \"['celebrity_&_pop_culture' 'other_hobbies']\",\n",
              "       \"['arts_&_culture' 'travel_&_adventure']\",\n",
              "       \"['diaries_&_daily_life' 'family' 'relationships']\",\n",
              "       \"['diaries_&_daily_life' 'relationships']\",\n",
              "       \"['food_&_dining' 'gaming' 'sports']\", \"['relationships']\",\n",
              "       \"['celebrity_&_pop_culture' 'music' 'travel_&_adventure']\",\n",
              "       \"['fitness_&_health' 'news_&_social_concern' 'sports']\",\n",
              "       \"['learning_&_educational' 'news_&_social_concern' 'science_&_technology']\",\n",
              "       \"['fitness_&_health' 'science_&_technology']\",\n",
              "       \"['news_&_social_concern' 'sports' 'youth_&_student_life']\",\n",
              "       \"['other_hobbies' 'science_&_technology']\",\n",
              "       \"['arts_&_culture' 'relationships']\",\n",
              "       \"['film_tv_&_video' 'relationships']\",\n",
              "       \"['family' 'news_&_social_concern' 'relationships' 'travel_&_adventure']\",\n",
              "       \"['diaries_&_daily_life' 'food_&_dining' 'news_&_social_concern']\",\n",
              "       \"['celebrity_&_pop_culture' 'relationships']\",\n",
              "       \"['celebrity_&_pop_culture' 'film_tv_&_video' 'music'\\n 'news_&_social_concern']\",\n",
              "       \"['celebrity_&_pop_culture' 'fashion_&_style']\",\n",
              "       \"['arts_&_culture' 'food_&_dining']\",\n",
              "       \"['learning_&_educational' 'music']\", \"['learning_&_educational']\",\n",
              "       \"['family' 'other_hobbies']\", \"['food_&_dining']\",\n",
              "       \"['fashion_&_style' 'music' 'news_&_social_concern']\",\n",
              "       \"['diaries_&_daily_life' 'other_hobbies' 'youth_&_student_life']\",\n",
              "       \"['news_&_social_concern' 'other_hobbies' 'science_&_technology']\",\n",
              "       \"['celebrity_&_pop_culture' 'fashion_&_style' 'news_&_social_concern']\",\n",
              "       \"['business_&_entrepreneurs' 'learning_&_educational']\",\n",
              "       \"['diaries_&_daily_life' 'family' 'learning_&_educational'\\n 'news_&_social_concern' 'youth_&_student_life']\",\n",
              "       \"['film_tv_&_video' 'learning_&_educational' 'news_&_social_concern']\",\n",
              "       \"['fashion_&_style' 'music']\",\n",
              "       \"['family' 'news_&_social_concern' 'relationships']\",\n",
              "       \"['diaries_&_daily_life' 'family' 'news_&_social_concern' 'relationships']\",\n",
              "       \"['diaries_&_daily_life' 'fitness_&_health' 'learning_&_educational'\\n 'news_&_social_concern' 'youth_&_student_life']\",\n",
              "       \"['diaries_&_daily_life' 'fitness_&_health']\",\n",
              "       \"['celebrity_&_pop_culture' 'music' 'other_hobbies']\",\n",
              "       \"['celebrity_&_pop_culture' 'film_tv_&_video' 'music' 'other_hobbies']\",\n",
              "       \"['film_tv_&_video' 'fitness_&_health']\",\n",
              "       \"['learning_&_educational' 'youth_&_student_life']\",\n",
              "       \"['diaries_&_daily_life' 'family']\",\n",
              "       \"['diaries_&_daily_life' 'news_&_social_concern' 'relationships']\",\n",
              "       \"['diaries_&_daily_life' 'family' 'news_&_social_concern']\",\n",
              "       \"['sports' 'youth_&_student_life']\",\n",
              "       \"['diaries_&_daily_life' 'news_&_social_concern' 'travel_&_adventure']\",\n",
              "       \"['film_tv_&_video' 'learning_&_educational']\",\n",
              "       \"['family' 'fitness_&_health' 'news_&_social_concern']\",\n",
              "       \"['diaries_&_daily_life' 'other_hobbies' 'travel_&_adventure']\",\n",
              "       \"['business_&_entrepreneurs' 'fitness_&_health' 'news_&_social_concern']\",\n",
              "       \"['fashion_&_style' 'film_tv_&_video' 'music']\",\n",
              "       \"['other_hobbies' 'relationships']\", \"['family']\",\n",
              "       \"['music' 'news_&_social_concern' 'other_hobbies']\",\n",
              "       \"['film_tv_&_video' 'food_&_dining']\",\n",
              "       \"['arts_&_culture' 'food_&_dining' 'travel_&_adventure']\",\n",
              "       \"['diaries_&_daily_life' 'family' 'news_&_social_concern' 'relationships'\\n 'youth_&_student_life']\",\n",
              "       \"['business_&_entrepreneurs' 'fitness_&_health' 'news_&_social_concern'\\n 'travel_&_adventure']\",\n",
              "       \"['business_&_entrepreneurs' 'learning_&_educational'\\n 'youth_&_student_life']\"],\n",
              "      dtype=object)"
            ]
          },
          "metadata": {},
          "execution_count": 7
        }
      ]
    },
    {
      "cell_type": "markdown",
      "source": [
        "### Constructing the target vector"
      ],
      "metadata": {
        "id": "4kYpXwe_my0I"
      }
    },
    {
      "cell_type": "code",
      "source": [
        "labels = []"
      ],
      "metadata": {
        "id": "DJl3IBHL_OJL"
      },
      "execution_count": 10,
      "outputs": []
    },
    {
      "cell_type": "code",
      "source": [
        "for label in data['topics'].values:\n",
        "  label_string = label[1:-1].replace('\\n', '')\n",
        "  #print(label_string)\n",
        "  label_list = [ category[1:-1] for category in label_string.split() ]\n",
        "  labels.append(label_list)"
      ],
      "metadata": {
        "id": "Wp3tbfmW_rMa"
      },
      "execution_count": 12,
      "outputs": []
    },
    {
      "cell_type": "code",
      "source": [
        "len(labels)"
      ],
      "metadata": {
        "colab": {
          "base_uri": "https://localhost:8080/"
        },
        "id": "NPeOH6ksCzGJ",
        "outputId": "db72b8e9-d172-44d0-caad-e23d7292a40b"
      },
      "execution_count": 13,
      "outputs": [
        {
          "output_type": "execute_result",
          "data": {
            "text/plain": [
              "1505"
            ]
          },
          "metadata": {},
          "execution_count": 13
        }
      ]
    },
    {
      "cell_type": "code",
      "source": [
        "frequencies = dict()\n",
        "for label_list in labels:\n",
        "  for label in label_list:\n",
        "    if label not in frequencies.keys():\n",
        "      frequencies[label] = 1\n",
        "    else:\n",
        "      frequencies[label] += 1"
      ],
      "metadata": {
        "id": "Y1udQ9j0CnLz"
      },
      "execution_count": 14,
      "outputs": []
    },
    {
      "cell_type": "code",
      "source": [
        "frequencies = dict(sorted(frequencies.items(), key=lambda x: x[1], reverse=True))"
      ],
      "metadata": {
        "id": "WsrdJv0VDPPy"
      },
      "execution_count": 15,
      "outputs": []
    },
    {
      "cell_type": "code",
      "source": [
        "frequencies"
      ],
      "metadata": {
        "colab": {
          "base_uri": "https://localhost:8080/"
        },
        "id": "H2thnCwJDnyU",
        "outputId": "ab04ff19-21b0-4589-f2ca-703cbf5b4211"
      },
      "execution_count": 16,
      "outputs": [
        {
          "output_type": "execute_result",
          "data": {
            "text/plain": [
              "{'sports': 532,\n",
              " 'music': 362,\n",
              " 'news_&_social_concern': 289,\n",
              " 'film_tv_&_video': 231,\n",
              " 'celebrity_&_pop_culture': 210,\n",
              " 'diaries_&_daily_life': 135,\n",
              " 'business_&_entrepreneurs': 80,\n",
              " 'other_hobbies': 70,\n",
              " 'science_&_technology': 65,\n",
              " 'gaming': 56,\n",
              " 'relationships': 55,\n",
              " 'fitness_&_health': 44,\n",
              " 'arts_&_culture': 42,\n",
              " 'fashion_&_style': 33,\n",
              " 'family': 30,\n",
              " 'learning_&_educational': 23,\n",
              " 'food_&_dining': 22,\n",
              " 'travel_&_adventure': 14,\n",
              " 'youth_&_student_life': 11}"
            ]
          },
          "metadata": {},
          "execution_count": 16
        }
      ]
    },
    {
      "cell_type": "code",
      "source": [
        "plt.figure(figsize=(20, 8))\n",
        "\n",
        "plt.bar(frequencies.keys(), frequencies.values(), width=0.8)\n",
        "\n",
        "plt.title('Text Categories')\n",
        "plt.xlabel('Category')\n",
        "plt.ylabel('Frequency')\n",
        "\n",
        "plt.xticks(rotation=-90)\n",
        "\n",
        "plt.show()"
      ],
      "metadata": {
        "colab": {
          "base_uri": "https://localhost:8080/",
          "height": 635
        },
        "id": "P6rZKADxD9qk",
        "outputId": "ee65cbce-fff6-487b-d315-7b5baa955540"
      },
      "execution_count": 17,
      "outputs": [
        {
          "output_type": "display_data",
          "data": {
            "text/plain": [
              "<Figure size 1440x576 with 1 Axes>"
            ],
            "image/png": "[encoded data removed]"
          },
          "metadata": {
            "needs_background": "light"
          }
        }
      ]
    },
    {
      "cell_type": "code",
      "source": [
        "topics_columns = dict()\n",
        "\n",
        "for category in frequencies.keys():\n",
        "  topic_column = []\n",
        "  for data_point in labels:\n",
        "    if category in data_point:\n",
        "      topic_column.append(1)\n",
        "    else:\n",
        "      topic_column.append(0)\n",
        "  topics_columns[category] = topic_column"
      ],
      "metadata": {
        "id": "iBcT1Jz5G_IF"
      },
      "execution_count": 19,
      "outputs": []
    },
    {
      "cell_type": "code",
      "source": [
        "topics_columns"
      ],
      "metadata": {
        "id": "e5PZgnmvI7xX"
      },
      "execution_count": null,
      "outputs": []
    },
    {
      "cell_type": "code",
      "source": [
        "for category in frequencies.keys():\n",
        "  data[category] = topics_columns[category]"
      ],
      "metadata": {
        "id": "us4LlwvYJIGh"
      },
      "execution_count": 21,
      "outputs": []
    },
    {
      "cell_type": "code",
      "source": [
        "data.columns"
      ],
      "metadata": {
        "colab": {
          "base_uri": "https://localhost:8080/"
        },
        "id": "ByxUweyRKSd3",
        "outputId": "293854b3-eb42-4ec3-9d69-a6ad1607c3da"
      },
      "execution_count": 23,
      "outputs": [
        {
          "output_type": "execute_result",
          "data": {
            "text/plain": [
              "Index(['text', 'date', 'topics', 'id', 'sports', 'music',\n",
              "       'news_&_social_concern', 'film_tv_&_video', 'celebrity_&_pop_culture',\n",
              "       'diaries_&_daily_life', 'business_&_entrepreneurs', 'other_hobbies',\n",
              "       'science_&_technology', 'gaming', 'relationships', 'fitness_&_health',\n",
              "       'arts_&_culture', 'fashion_&_style', 'family', 'learning_&_educational',\n",
              "       'food_&_dining', 'travel_&_adventure', 'youth_&_student_life'],\n",
              "      dtype='object')"
            ]
          },
          "metadata": {},
          "execution_count": 23
        }
      ]
    },
    {
      "cell_type": "markdown",
      "source": [
        "### The new dataset"
      ],
      "metadata": {
        "id": "G835ij_Knkcu"
      }
    },
    {
      "cell_type": "code",
      "source": [
        "dataset = data.drop(columns = ['date', 'topics', 'id'] )"
      ],
      "metadata": {
        "id": "ejaQ3aQtKcJp"
      },
      "execution_count": 24,
      "outputs": []
    },
    {
      "cell_type": "code",
      "source": [
        "dataset"
      ],
      "metadata": {
        "colab": {
          "base_uri": "https://localhost:8080/",
          "height": 938
        },
        "id": "_TNvRc7DKr7_",
        "outputId": "48f97688-3640-457a-fe82-66f5daf37f95"
      },
      "execution_count": 25,
      "outputs": [
        {
          "output_type": "execute_result",
          "data": {
            "text/plain": [
              "                                                   text  sports  music  \\\n",
              "0     Barbara Bailey is the queen of broadcast news ...       0      0   \n",
              "1     start the 20-21 school year off POSITIVE! let’...       0      0   \n",
              "2     Worth watching at least the 1st 10mins if I wa...       0      0   \n",
              "3     There s regular people and then there s {@Bail...       0      0   \n",
              "4     Up with new grace, truly sorry on behalf of {@...       0      0   \n",
              "...                                                 ...     ...    ...   \n",
              "1500  Why don t I like {@James Corden@} #JamesCorden...       0      0   \n",
              "1501  HATS off to {@Jim Cantore@} and {@The Weather ...       0      0   \n",
              "1502  The truth is the love is real..Even if everyon...       0      0   \n",
              "1503  HMU for Quality Assured Results; #essay due; #...       0      0   \n",
              "1504  Thinking of everyone in Ida’s path and of my f...       0      0   \n",
              "\n",
              "      news_&_social_concern  film_tv_&_video  celebrity_&_pop_culture  \\\n",
              "0                         1                1                        0   \n",
              "1                         0                0                        0   \n",
              "2                         1                1                        0   \n",
              "3                         0                0                        1   \n",
              "4                         1                0                        1   \n",
              "...                     ...              ...                      ...   \n",
              "1500                      0                0                        1   \n",
              "1501                      1                1                        1   \n",
              "1502                      0                0                        0   \n",
              "1503                      0                0                        0   \n",
              "1504                      1                0                        0   \n",
              "\n",
              "      diaries_&_daily_life  business_&_entrepreneurs  other_hobbies  \\\n",
              "0                        0                         0              0   \n",
              "1                        1                         0              0   \n",
              "2                        0                         0              0   \n",
              "3                        0                         0              0   \n",
              "4                        0                         0              0   \n",
              "...                    ...                       ...            ...   \n",
              "1500                     0                         0              0   \n",
              "1501                     0                         0              0   \n",
              "1502                     0                         0              0   \n",
              "1503                     0                         1              0   \n",
              "1504                     0                         0              0   \n",
              "\n",
              "      science_&_technology  gaming  relationships  fitness_&_health  \\\n",
              "0                        0       0              0                 0   \n",
              "1                        0       0              0                 0   \n",
              "2                        0       0              0                 0   \n",
              "3                        0       0              0                 0   \n",
              "4                        0       0              0                 1   \n",
              "...                    ...     ...            ...               ...   \n",
              "1500                     0       0              0                 0   \n",
              "1501                     0       0              0                 0   \n",
              "1502                     0       0              1                 0   \n",
              "1503                     0       0              0                 0   \n",
              "1504                     0       0              1                 0   \n",
              "\n",
              "      arts_&_culture  fashion_&_style  family  learning_&_educational  \\\n",
              "0                  0                0       0                       0   \n",
              "1                  0                0       0                       0   \n",
              "2                  0                0       0                       0   \n",
              "3                  0                0       0                       0   \n",
              "4                  0                0       0                       0   \n",
              "...              ...              ...     ...                     ...   \n",
              "1500               0                0       0                       0   \n",
              "1501               0                0       0                       0   \n",
              "1502               1                0       0                       0   \n",
              "1503               0                0       0                       1   \n",
              "1504               0                0       1                       0   \n",
              "\n",
              "      food_&_dining  travel_&_adventure  youth_&_student_life  \n",
              "0                 0                   0                     0  \n",
              "1                 0                   0                     1  \n",
              "2                 0                   0                     0  \n",
              "3                 0                   0                     0  \n",
              "4                 0                   0                     0  \n",
              "...             ...                 ...                   ...  \n",
              "1500              0                   0                     0  \n",
              "1501              0                   0                     0  \n",
              "1502              0                   0                     0  \n",
              "1503              0                   0                     1  \n",
              "1504              0                   0                     0  \n",
              "\n",
              "[1505 rows x 20 columns]"
            ],
            "text/html": [
              "\n",
              "  <div id=\"df-ae7fc608-5481-48c5-b517-9198101b8cb5\">\n",
              "    <div class=\"colab-df-container\">\n",
              "      <div>\n",
              "<style scoped>\n",
              "    .dataframe tbody tr th:only-of-type {\n",
              "        vertical-align: middle;\n",
              "    }\n",
              "\n",
              "    .dataframe tbody tr th {\n",
              "        vertical-align: top;\n",
              "    }\n",
              "\n",
              "    .dataframe thead th {\n",
              "        text-align: right;\n",
              "    }\n",
              "</style>\n",
              "<table border=\"1\" class=\"dataframe\">\n",
              "  <thead>\n",
              "    <tr style=\"text-align: right;\">\n",
              "      <th></th>\n",
              "      <th>text</th>\n",
              "      <th>sports</th>\n",
              "      <th>music</th>\n",
              "      <th>news_&amp;_social_concern</th>\n",
              "      <th>film_tv_&amp;_video</th>\n",
              "      <th>celebrity_&amp;_pop_culture</th>\n",
              "      <th>diaries_&amp;_daily_life</th>\n",
              "      <th>business_&amp;_entrepreneurs</th>\n",
              "      <th>other_hobbies</th>\n",
              "      <th>science_&amp;_technology</th>\n",
              "      <th>gaming</th>\n",
              "      <th>relationships</th>\n",
              "      <th>fitness_&amp;_health</th>\n",
              "      <th>arts_&amp;_culture</th>\n",
              "      <th>fashion_&amp;_style</th>\n",
              "      <th>family</th>\n",
              "      <th>learning_&amp;_educational</th>\n",
              "      <th>food_&amp;_dining</th>\n",
              "      <th>travel_&amp;_adventure</th>\n",
              "      <th>youth_&amp;_student_life</th>\n",
              "    </tr>\n",
              "  </thead>\n",
              "  <tbody>\n",
              "    <tr>\n",
              "      <th>0</th>\n",
              "      <td>Barbara Bailey is the queen of broadcast news ...</td>\n",
              "      <td>0</td>\n",
              "      <td>0</td>\n",
              "      <td>1</td>\n",
              "      <td>1</td>\n",
              "      <td>0</td>\n",
              "      <td>0</td>\n",
              "      <td>0</td>\n",
              "      <td>0</td>\n",
              "      <td>0</td>\n",
              "      <td>0</td>\n",
              "      <td>0</td>\n",
              "      <td>0</td>\n",
              "      <td>0</td>\n",
              "      <td>0</td>\n",
              "      <td>0</td>\n",
              "      <td>0</td>\n",
              "      <td>0</td>\n",
              "      <td>0</td>\n",
              "      <td>0</td>\n",
              "    </tr>\n",
              "    <tr>\n",
              "      <th>1</th>\n",
              "      <td>start the 20-21 school year off POSITIVE! let’...</td>\n",
              "      <td>0</td>\n",
              "      <td>0</td>\n",
              "      <td>0</td>\n",
              "      <td>0</td>\n",
              "      <td>0</td>\n",
              "      <td>1</td>\n",
              "      <td>0</td>\n",
              "      <td>0</td>\n",
              "      <td>0</td>\n",
              "      <td>0</td>\n",
              "      <td>0</td>\n",
              "      <td>0</td>\n",
              "      <td>0</td>\n",
              "      <td>0</td>\n",
              "      <td>0</td>\n",
              "      <td>0</td>\n",
              "      <td>0</td>\n",
              "      <td>0</td>\n",
              "      <td>1</td>\n",
              "    </tr>\n",
              "    <tr>\n",
              "      <th>2</th>\n",
              "      <td>Worth watching at least the 1st 10mins if I wa...</td>\n",
              "      <td>0</td>\n",
              "      <td>0</td>\n",
              "      <td>1</td>\n",
              "      <td>1</td>\n",
              "      <td>0</td>\n",
              "      <td>0</td>\n",
              "      <td>0</td>\n",
              "      <td>0</td>\n",
              "      <td>0</td>\n",
              "      <td>0</td>\n",
              "      <td>0</td>\n",
              "      <td>0</td>\n",
              "      <td>0</td>\n",
              "      <td>0</td>\n",
              "      <td>0</td>\n",
              "      <td>0</td>\n",
              "      <td>0</td>\n",
              "      <td>0</td>\n",
              "      <td>0</td>\n",
              "    </tr>\n",
              "    <tr>\n",
              "      <th>3</th>\n",
              "      <td>There s regular people and then there s {@Bail...</td>\n",
              "      <td>0</td>\n",
              "      <td>0</td>\n",
              "      <td>0</td>\n",
              "      <td>0</td>\n",
              "      <td>1</td>\n",
              "      <td>0</td>\n",
              "      <td>0</td>\n",
              "      <td>0</td>\n",
              "      <td>0</td>\n",
              "      <td>0</td>\n",
              "      <td>0</td>\n",
              "      <td>0</td>\n",
              "      <td>0</td>\n",
              "      <td>0</td>\n",
              "      <td>0</td>\n",
              "      <td>0</td>\n",
              "      <td>0</td>\n",
              "      <td>0</td>\n",
              "      <td>0</td>\n",
              "    </tr>\n",
              "    <tr>\n",
              "      <th>4</th>\n",
              "      <td>Up with new grace, truly sorry on behalf of {@...</td>\n",
              "      <td>0</td>\n",
              "      <td>0</td>\n",
              "      <td>1</td>\n",
              "      <td>0</td>\n",
              "      <td>1</td>\n",
              "      <td>0</td>\n",
              "      <td>0</td>\n",
              "      <td>0</td>\n",
              "      <td>0</td>\n",
              "      <td>0</td>\n",
              "      <td>0</td>\n",
              "      <td>1</td>\n",
              "      <td>0</td>\n",
              "      <td>0</td>\n",
              "      <td>0</td>\n",
              "      <td>0</td>\n",
              "      <td>0</td>\n",
              "      <td>0</td>\n",
              "      <td>0</td>\n",
              "    </tr>\n",
              "    <tr>\n",
              "      <th>...</th>\n",
              "      <td>...</td>\n",
              "      <td>...</td>\n",
              "      <td>...</td>\n",
              "      <td>...</td>\n",
              "      <td>...</td>\n",
              "      <td>...</td>\n",
              "      <td>...</td>\n",
              "      <td>...</td>\n",
              "      <td>...</td>\n",
              "      <td>...</td>\n",
              "      <td>...</td>\n",
              "      <td>...</td>\n",
              "      <td>...</td>\n",
              "      <td>...</td>\n",
              "      <td>...</td>\n",
              "      <td>...</td>\n",
              "      <td>...</td>\n",
              "      <td>...</td>\n",
              "      <td>...</td>\n",
              "      <td>...</td>\n",
              "    </tr>\n",
              "    <tr>\n",
              "      <th>1500</th>\n",
              "      <td>Why don t I like {@James Corden@} #JamesCorden...</td>\n",
              "      <td>0</td>\n",
              "      <td>0</td>\n",
              "      <td>0</td>\n",
              "      <td>0</td>\n",
              "      <td>1</td>\n",
              "      <td>0</td>\n",
              "      <td>0</td>\n",
              "      <td>0</td>\n",
              "      <td>0</td>\n",
              "      <td>0</td>\n",
              "      <td>0</td>\n",
              "      <td>0</td>\n",
              "      <td>0</td>\n",
              "      <td>0</td>\n",
              "      <td>0</td>\n",
              "      <td>0</td>\n",
              "      <td>0</td>\n",
              "      <td>0</td>\n",
              "      <td>0</td>\n",
              "    </tr>\n",
              "    <tr>\n",
              "      <th>1501</th>\n",
              "      <td>HATS off to {@Jim Cantore@} and {@The Weather ...</td>\n",
              "      <td>0</td>\n",
              "      <td>0</td>\n",
              "      <td>1</td>\n",
              "      <td>1</td>\n",
              "      <td>1</td>\n",
              "      <td>0</td>\n",
              "      <td>0</td>\n",
              "      <td>0</td>\n",
              "      <td>0</td>\n",
              "      <td>0</td>\n",
              "      <td>0</td>\n",
              "      <td>0</td>\n",
              "      <td>0</td>\n",
              "      <td>0</td>\n",
              "      <td>0</td>\n",
              "      <td>0</td>\n",
              "      <td>0</td>\n",
              "      <td>0</td>\n",
              "      <td>0</td>\n",
              "    </tr>\n",
              "    <tr>\n",
              "      <th>1502</th>\n",
              "      <td>The truth is the love is real..Even if everyon...</td>\n",
              "      <td>0</td>\n",
              "      <td>0</td>\n",
              "      <td>0</td>\n",
              "      <td>0</td>\n",
              "      <td>0</td>\n",
              "      <td>0</td>\n",
              "      <td>0</td>\n",
              "      <td>0</td>\n",
              "      <td>0</td>\n",
              "      <td>0</td>\n",
              "      <td>1</td>\n",
              "      <td>0</td>\n",
              "      <td>1</td>\n",
              "      <td>0</td>\n",
              "      <td>0</td>\n",
              "      <td>0</td>\n",
              "      <td>0</td>\n",
              "      <td>0</td>\n",
              "      <td>0</td>\n",
              "    </tr>\n",
              "    <tr>\n",
              "      <th>1503</th>\n",
              "      <td>HMU for Quality Assured Results; #essay due; #...</td>\n",
              "      <td>0</td>\n",
              "      <td>0</td>\n",
              "      <td>0</td>\n",
              "      <td>0</td>\n",
              "      <td>0</td>\n",
              "      <td>0</td>\n",
              "      <td>1</td>\n",
              "      <td>0</td>\n",
              "      <td>0</td>\n",
              "      <td>0</td>\n",
              "      <td>0</td>\n",
              "      <td>0</td>\n",
              "      <td>0</td>\n",
              "      <td>0</td>\n",
              "      <td>0</td>\n",
              "      <td>1</td>\n",
              "      <td>0</td>\n",
              "      <td>0</td>\n",
              "      <td>1</td>\n",
              "    </tr>\n",
              "    <tr>\n",
              "      <th>1504</th>\n",
              "      <td>Thinking of everyone in Ida’s path and of my f...</td>\n",
              "      <td>0</td>\n",
              "      <td>0</td>\n",
              "      <td>1</td>\n",
              "      <td>0</td>\n",
              "      <td>0</td>\n",
              "      <td>0</td>\n",
              "      <td>0</td>\n",
              "      <td>0</td>\n",
              "      <td>0</td>\n",
              "      <td>0</td>\n",
              "      <td>1</td>\n",
              "      <td>0</td>\n",
              "      <td>0</td>\n",
              "      <td>0</td>\n",
              "      <td>1</td>\n",
              "      <td>0</td>\n",
              "      <td>0</td>\n",
              "      <td>0</td>\n",
              "      <td>0</td>\n",
              "    </tr>\n",
              "  </tbody>\n",
              "</table>\n",
              "<p>1505 rows × 20 columns</p>\n",
              "</div>\n",
              "      <button class=\"colab-df-convert\" onclick=\"convertToInteractive('df-ae7fc608-5481-48c5-b517-9198101b8cb5')\"\n",
              "              title=\"Convert this dataframe to an interactive table.\"\n",
              "              style=\"display:none;\">\n",
              "        \n",
              "  <svg xmlns=\"http://www.w3.org/2000/svg\" height=\"24px\"viewBox=\"0 0 24 24\"\n",
              "       width=\"24px\">\n",
              "    <path d=\"M0 0h24v24H0V0z\" fill=\"none\"/>\n",
              "    <path d=\"M18.56 5.44l.94 2.06.94-2.06 2.06-.94-2.06-.94-.94-2.06-.94 2.06-2.06.94zm-11 1L8.5 8.5l.94-2.06 2.06-.94-2.06-.94L8.5 2.5l-.94 2.06-2.06.94zm10 10l.94 2.06.94-2.06 2.06-.94-2.06-.94-.94-2.06-.94 2.06-2.06.94z\"/><path d=\"M17.41 7.96l-1.37-1.37c-.4-.4-.92-.59-1.43-.59-.52 0-1.04.2-1.43.59L10.3 9.45l-7.72 7.72c-.78.78-.78 2.05 0 2.83L4 21.41c.39.39.9.59 1.41.59.51 0 1.02-.2 1.41-.59l7.78-7.78 2.81-2.81c.8-.78.8-2.07 0-2.86zM5.41 20L4 18.59l7.72-7.72 1.47 1.35L5.41 20z\"/>\n",
              "  </svg>\n",
              "      </button>\n",
              "      \n",
              "  <style>\n",
              "    .colab-df-container {\n",
              "      display:flex;\n",
              "      flex-wrap:wrap;\n",
              "      gap: 12px;\n",
              "    }\n",
              "\n",
              "    .colab-df-convert {\n",
              "      background-color: #E8F0FE;\n",
              "      border: none;\n",
              "      border-radius: 50%;\n",
              "      cursor: pointer;\n",
              "      display: none;\n",
              "      fill: #1967D2;\n",
              "      height: 32px;\n",
              "      padding: 0 0 0 0;\n",
              "      width: 32px;\n",
              "    }\n",
              "\n",
              "    .colab-df-convert:hover {\n",
              "      background-color: #E2EBFA;\n",
              "      box-shadow: 0px 1px 2px rgba(60, 64, 67, 0.3), 0px 1px 3px 1px rgba(60, 64, 67, 0.15);\n",
              "      fill: #174EA6;\n",
              "    }\n",
              "\n",
              "    [theme=dark] .colab-df-convert {\n",
              "      background-color: #3B4455;\n",
              "      fill: #D2E3FC;\n",
              "    }\n",
              "\n",
              "    [theme=dark] .colab-df-convert:hover {\n",
              "      background-color: #434B5C;\n",
              "      box-shadow: 0px 1px 3px 1px rgba(0, 0, 0, 0.15);\n",
              "      filter: drop-shadow(0px 1px 2px rgba(0, 0, 0, 0.3));\n",
              "      fill: #FFFFFF;\n",
              "    }\n",
              "  </style>\n",
              "\n",
              "      <script>\n",
              "        const buttonEl =\n",
              "          document.querySelector('#df-ae7fc608-5481-48c5-b517-9198101b8cb5 button.colab-df-convert');\n",
              "        buttonEl.style.display =\n",
              "          google.colab.kernel.accessAllowed ? 'block' : 'none';\n",
              "\n",
              "        async function convertToInteractive(key) {\n",
              "          const element = document.querySelector('#df-ae7fc608-5481-48c5-b517-9198101b8cb5');\n",
              "          const dataTable =\n",
              "            await google.colab.kernel.invokeFunction('convertToInteractive',\n",
              "                                                     [key], {});\n",
              "          if (!dataTable) return;\n",
              "\n",
              "          const docLinkHtml = 'Like what you see? Visit the ' +\n",
              "            '<a target=\"_blank\" href=https://colab.research.google.com/notebooks/data_table.ipynb>data table notebook</a>'\n",
              "            + ' to learn more about interactive tables.';\n",
              "          element.innerHTML = '';\n",
              "          dataTable['output_type'] = 'display_data';\n",
              "          await google.colab.output.renderOutput(dataTable, element);\n",
              "          const docLink = document.createElement('div');\n",
              "          docLink.innerHTML = docLinkHtml;\n",
              "          element.appendChild(docLink);\n",
              "        }\n",
              "      </script>\n",
              "    </div>\n",
              "  </div>\n",
              "  "
            ]
          },
          "metadata": {},
          "execution_count": 25
        }
      ]
    },
    {
      "cell_type": "markdown",
      "source": [
        "### Data cleaning"
      ],
      "metadata": {
        "id": "uxvuj3hRnrQh"
      }
    },
    {
      "cell_type": "code",
      "source": [
        "dataset['text'].sample(n=10).values.tolist()"
      ],
      "metadata": {
        "colab": {
          "base_uri": "https://localhost:8080/"
        },
        "id": "LZya2j5YLm1r",
        "outputId": "44b8a8c1-7e9e-47ca-bb71-c8853ac3ccc9"
      },
      "execution_count": 34,
      "outputs": [
        {
          "output_type": "execute_result",
          "data": {
            "text/plain": [
              "['on {@YouTube@} : The Field (feat. Bino Rideaux & Young Dolph) {{URL}}',\n",
              " '#TrishIntel w {@Trish Regan@} podcast via {@Spotify USA@} President Trump + First Lady Melania have #COVID19  Join us in wishing them both a speedy recovery {{URL}}',\n",
              " 'The #Pirates celebrating the 50th anniversary of that 1971 World Series team had one of those games tonight. One of those games that get put into top 10 lists on . {{USERNAME}} it was incredible to witness and almost surreal. In a difficult season these games make summer fun!',\n",
              " 'Drivers license by {@Olivia Rodrigo@} is so good!!!! Go stream if you haven’t!!! Masterpiece.',\n",
              " 'Human birth is to liberate oneself from the birth cycle and to attain ultimate salvation. It is possible by meditating the holy divine words. So, Spend your Sunday in God s remembrance and make it #SpiritualSunday {@DSS News and Updates@} {{URL}} ',\n",
              " 'Singer, writer and producer = MORISSETTE AMON.   MORISSETTE NEW MUSIC {{USERNAME}} LYS TEASER RELEASE {{URL}} ',\n",
              " 'Monday’s Google Doodle Celebrates Jupiter And Saturn On The Winter Solstice via {@Forbes@} {{URL}}',\n",
              " 'The man who built each & every step of his SUCCESS by his own & made the entire world to gaze at him  I Started liking him for his onscreen performance & grownup by admiring his Offscreen character  He is a complete package of SUPERSTAR {@Sidharth Shukla@} #BrokenButBeautiful3',\n",
              " 'I listen to The Line x {@dvsn@} like I’ve never heard it, EVERYTIME .',\n",
              " 'Kudos to the music crew on {@NBC Entertainment@} {{USERNAME}} with some {@Drivin N Cryin@} #aintitstrange']"
            ]
          },
          "metadata": {},
          "execution_count": 34
        }
      ]
    },
    {
      "cell_type": "code",
      "source": [
        "import re\n",
        "import string"
      ],
      "metadata": {
        "id": "j34YISQkUZmP"
      },
      "execution_count": 30,
      "outputs": []
    },
    {
      "cell_type": "code",
      "source": [
        "def remove_tag(text):\n",
        "    url = re.compile(r\"({.*?}|\\{\\{.*?\\}\\})\")\n",
        "    return url.sub(r\"\", text)"
      ],
      "metadata": {
        "id": "OiXLOumKVYiu"
      },
      "execution_count": 48,
      "outputs": []
    },
    {
      "cell_type": "code",
      "source": [
        "dataset['clean_text'] = dataset[\"text\"].apply(remove_tag)"
      ],
      "metadata": {
        "id": "nWguFBtXVZ51"
      },
      "execution_count": 49,
      "outputs": []
    },
    {
      "cell_type": "code",
      "source": [
        "dataset['clean_text'].sample(n=10).values.tolist()"
      ],
      "metadata": {
        "colab": {
          "base_uri": "https://localhost:8080/"
        },
        "id": "MaIQtqShXGhL",
        "outputId": "18a35e9b-0c07-41c1-cf2e-a441e8abd990"
      },
      "execution_count": 50,
      "outputs": [
        {
          "output_type": "execute_result",
          "data": {
            "text/plain": [
              "['BTS (방탄소년단)  Permission to Dance  Official MV } a través de youtube ',\n",
              " 'Finally } } I finished ff14 what an amazing ride from AAR to Shadowbringers the story’s and characters are some of the best I experienced in gaming, and I’m glad y’all got me back into it thank you .',\n",
              " 'Stanley Cup Final: The Tampa Bay Lightning Must Regroup Following Game 1 Loss to the Dallas Stars .... by } }',\n",
              " 'I’m finding  to be much worse without } and still don’t understand why he was banned. Cc. ',\n",
              " 'Jihoon blue hair Jihoon forehead Jihoon specs Jihoon turtle neck  TALENTED MC JIHOON  #ProIdolMCJihoon #지훈 #트레저 ',\n",
              " 'I can’t recall a year I have chased both Christmas Eve and New Years Eve in the same year. } and I were chasing Christmas Eve tornado in Mobile, AL about 8 years ago during an El Niño winter. Never stop chasing',\n",
              " 'Huge thanks to } for spinning “Eating Up The Sky” on his New Music Fix show on  last night ! ❤️❤️❤️❤️ }',\n",
              " 'I see  also felt the Astros presence in 2020 was an insufferable burden baseball fans had to carry.',\n",
              " 'Happy Sunday to everyone!! . . . Have y’all listen to my album today? If not hmmm, you are missing out!! It’s in all music platforms, simply type (Ace Word) and the album name is (Focus) Thank me later!!  } }   ',\n",
              " 'Destiny s Child - Jumpin’ Jumpin’ (Official Music Video) } via  this song takes me right back to high school']"
            ]
          },
          "metadata": {},
          "execution_count": 50
        }
      ]
    },
    {
      "cell_type": "code",
      "source": [
        "dataset[[\"text\", \"clean_text\"]].sample(n=1).values.tolist()"
      ],
      "metadata": {
        "colab": {
          "base_uri": "https://localhost:8080/"
        },
        "id": "H-BRsb1TYvl5",
        "outputId": "fd57b06a-d231-45d8-de20-407389416b3e"
      },
      "execution_count": 51,
      "outputs": [
        {
          "output_type": "execute_result",
          "data": {
            "text/plain": [
              "[['#Nadal #BarcelonaOpen   Congrats {@Rafa Nadal@} {@Stefanos Tsitsipas@} threw everything he had at Nadal, but the King of Clay won t be denied!',\n",
              "  '#Nadal #BarcelonaOpen   Congrats   threw everything he had at Nadal, but the King of Clay won t be denied!']]"
            ]
          },
          "metadata": {},
          "execution_count": 51
        }
      ]
    },
    {
      "cell_type": "code",
      "source": [
        "string.punctuation"
      ],
      "metadata": {
        "colab": {
          "base_uri": "https://localhost:8080/",
          "height": 36
        },
        "id": "hgLoewiIWjEq",
        "outputId": "a48f59c4-b2c3-41ba-976e-e4ed39a873a2"
      },
      "execution_count": 52,
      "outputs": [
        {
          "output_type": "execute_result",
          "data": {
            "text/plain": [
              "'!\"#$%&\\'()*+,-./:;<=>?@[\\\\]^_`{|}~'"
            ],
            "application/vnd.google.colaboratory.intrinsic+json": {
              "type": "string"
            }
          },
          "metadata": {},
          "execution_count": 52
        }
      ]
    },
    {
      "cell_type": "code",
      "source": [
        "def remove_punct(text):\n",
        "    translator = str.maketrans(\"\", \"\", string.punctuation)\n",
        "    return text.translate(translator)"
      ],
      "metadata": {
        "id": "dmkAcY3oVWB4"
      },
      "execution_count": 53,
      "outputs": []
    },
    {
      "cell_type": "code",
      "source": [
        "dataset['clean_text'] = dataset[\"clean_text\"].apply(remove_punct)"
      ],
      "metadata": {
        "id": "i9SBFrgGZksM"
      },
      "execution_count": 54,
      "outputs": []
    },
    {
      "cell_type": "code",
      "source": [
        "dataset[[\"clean_text\"]].sample(n=3).values.tolist()"
      ],
      "metadata": {
        "colab": {
          "base_uri": "https://localhost:8080/"
        },
        "id": "ZHCkrKAkZsnB",
        "outputId": "11bfe59e-b8cc-42a7-921b-a3d71ea79e40"
      },
      "execution_count": 57,
      "outputs": [
        {
          "output_type": "execute_result",
          "data": {
            "text/plain": [
              "[['Dear   I love the album packs with photobooks photocards  all the extras But it would be cool if you had a full length LPVinyl Record for the next album Plus all those goodies that goes with an album Just a Thought vinylcollector SmoothLikeButter BTSBUTTER'],\n",
              " ['I know I missed tbtbut this  is throw back to the last time the Lightning were in the Stanley Cup Later won it  gobolts  '],\n",
              " ['99100 people made it into the top 100 for FaZe5 I have been waiting so long and been anxiously refreshing  twitter I have been grinding for 3 years Please help me reach my dream Thanks and good luck to everyone Hopefully I wake up to the news that I made it']]"
            ]
          },
          "metadata": {},
          "execution_count": 57
        }
      ]
    },
    {
      "cell_type": "code",
      "source": [
        "dataset['clean_text'] = dataset['clean_text'].str.replace('[\\[\\]]', '')"
      ],
      "metadata": {
        "colab": {
          "base_uri": "https://localhost:8080/"
        },
        "id": "D3XHrPPQaJsL",
        "outputId": "9a93b74c-1d75-46bf-87e9-e0d864fac91e"
      },
      "execution_count": 58,
      "outputs": [
        {
          "output_type": "stream",
          "name": "stderr",
          "text": [
            "<ipython-input-58-f0fe9302765c>:1: FutureWarning: The default value of regex will change from True to False in a future version.\n",
            "  dataset['clean_text'] = dataset['clean_text'].str.replace('[\\[\\]]', '')\n"
          ]
        }
      ]
    },
    {
      "cell_type": "code",
      "source": [
        "dataset[\"clean_text\"].sample(n=2).values"
      ],
      "metadata": {
        "colab": {
          "base_uri": "https://localhost:8080/"
        },
        "id": "SE9RLSScaPTy",
        "outputId": "5b52d98b-e2ac-4e88-f674-d8204c778dab"
      },
      "execution_count": 75,
      "outputs": [
        {
          "output_type": "execute_result",
          "data": {
            "text/plain": [
              "array(['Sure the Super Bowl just ended but both the Bucs and Chiefs are going to start looking towards next year and how they can improve their rosters even further   ',\n",
              "       'Kpop MVs that have reach 11M likes on Youtube   12   6   1 AgustD 1  Last Kpop MV that have reach 11M likes BTS  Permission to Dance '],\n",
              "      dtype=object)"
            ]
          },
          "metadata": {},
          "execution_count": 75
        }
      ]
    },
    {
      "cell_type": "code",
      "source": [
        "import nltk\n",
        "nltk.download('stopwords')\n",
        "from nltk.corpus import stopwords\n",
        "\n",
        "stop = set(stopwords.words(\"english\"))"
      ],
      "metadata": {
        "colab": {
          "base_uri": "https://localhost:8080/"
        },
        "id": "GnzslTyucENc",
        "outputId": "304d49dd-a885-431d-be6b-3e92047568f4"
      },
      "execution_count": 76,
      "outputs": [
        {
          "output_type": "stream",
          "name": "stderr",
          "text": [
            "[nltk_data] Downloading package stopwords to /root/nltk_data...\n",
            "[nltk_data]   Unzipping corpora/stopwords.zip.\n"
          ]
        }
      ]
    },
    {
      "cell_type": "code",
      "source": [
        "stop"
      ],
      "metadata": {
        "id": "oYrInzB9cg09"
      },
      "execution_count": null,
      "outputs": []
    },
    {
      "cell_type": "markdown",
      "source": [],
      "metadata": {
        "id": "anrUN9GMcgA-"
      }
    },
    {
      "cell_type": "code",
      "source": [
        "def remove_stopwords(text):\n",
        "    filtered_words = [word.lower() for word in text.split() if word.lower() not in stop]\n",
        "    return \" \".join(filtered_words)"
      ],
      "metadata": {
        "id": "Rca1nL-KcIw4"
      },
      "execution_count": 80,
      "outputs": []
    },
    {
      "cell_type": "code",
      "source": [
        "dataset['reduced_text'] = dataset[\"clean_text\"].apply(remove_stopwords)"
      ],
      "metadata": {
        "id": "vMTSKqFccsKy"
      },
      "execution_count": 81,
      "outputs": []
    },
    {
      "cell_type": "code",
      "source": [
        "dataset[\"reduced_text\"].sample(n=4).values"
      ],
      "metadata": {
        "colab": {
          "base_uri": "https://localhost:8080/"
        },
        "id": "igp6hS9XcxzU",
        "outputId": "4b2bf7d8-a5c0-4ec1-feff-4cd4ed5068d3"
      },
      "execution_count": 93,
      "outputs": [
        {
          "output_type": "execute_result",
          "data": {
            "text/plain": [
              "array(['like format love prime time spot think should’ve put biffles tires start car would little fair field came last lead 15 laps but… can’t take away local … he’s doin great srxracing',\n",
              "       'manchester red beautiful fans ggmu mcimun mufc manchesterderby',\n",
              "       'relaxing music video meditation music video calm music stress via relaxingmusic meditationmusic sleepingmusic stressreliefmusic videos please visit youtube channel subscribe',\n",
              "       'listen story bmf rise fall big meech black mafia family spotifyalbum6pjzjgbr3a19nlhlilnoqw'],\n",
              "      dtype=object)"
            ]
          },
          "metadata": {},
          "execution_count": 93
        }
      ]
    },
    {
      "cell_type": "code",
      "source": [
        "dataset['clean_text'] = dataset['reduced_text'].str.replace(r'[^a-zA-Z ]', '')"
      ],
      "metadata": {
        "colab": {
          "base_uri": "https://localhost:8080/"
        },
        "id": "k49EXFqJkFkg",
        "outputId": "07f0535a-ee13-41ba-ba9d-4ad64a071078"
      },
      "execution_count": 102,
      "outputs": [
        {
          "output_type": "stream",
          "name": "stderr",
          "text": [
            "<ipython-input-102-c0916d6bb42c>:1: FutureWarning: The default value of regex will change from True to False in a future version.\n",
            "  dataset['clean_text'] = dataset['reduced_text'].str.replace(r'[^a-zA-Z ]', '')\n"
          ]
        }
      ]
    },
    {
      "cell_type": "code",
      "source": [
        "dataset['clean_text']"
      ],
      "metadata": {
        "colab": {
          "base_uri": "https://localhost:8080/"
        },
        "id": "88ngmVmZkTbX",
        "outputId": "47385eed-a995-476e-b6ff-e5ce8f32a206"
      },
      "execution_count": 103,
      "outputs": [
        {
          "output_type": "execute_result",
          "data": {
            "text/plain": [
              "0       barbara bailey queen broadcast news central ea...\n",
              "1       start  school year positive lets start thread ...\n",
              "2       worth watching least st mins minister love  of...\n",
              "3                         regular people queen everything\n",
              "4       new grace truly sorry behalf dont endorse bad ...\n",
              "                              ...                        \n",
              "1500                 like jamescorden someone help figure\n",
              "1501    hats team field tracking hurricaneida keeping ...\n",
              "1502    truth love realeven everyone gangs yougod isnt...\n",
              "1503    hmu quality assured results essay due pay writ...\n",
              "1504    thinking everyone idas path friends please sta...\n",
              "Name: clean_text, Length: 1505, dtype: object"
            ]
          },
          "metadata": {},
          "execution_count": 103
        }
      ]
    },
    {
      "cell_type": "markdown",
      "source": [
        "### Tokenization"
      ],
      "metadata": {
        "id": "4-DjwmtQnxKV"
      }
    },
    {
      "cell_type": "code",
      "source": [
        "from collections import Counter\n",
        "\n",
        "def counter_word(text_col):\n",
        "    count = Counter()\n",
        "    for text in text_col.values:\n",
        "        for word in text.split():\n",
        "            count[word] += 1\n",
        "    return count\n",
        "\n",
        "counter = counter_word(dataset[\"clean_text\"])"
      ],
      "metadata": {
        "id": "qQJElg7rjgTK"
      },
      "execution_count": 104,
      "outputs": []
    },
    {
      "cell_type": "code",
      "source": [
        "len(counter)"
      ],
      "metadata": {
        "colab": {
          "base_uri": "https://localhost:8080/"
        },
        "id": "0ub5Bhrjjk8f",
        "outputId": "c95d3811-afe4-4f59-d1be-0d51fa77b86a"
      },
      "execution_count": 105,
      "outputs": [
        {
          "output_type": "execute_result",
          "data": {
            "text/plain": [
              "7371"
            ]
          },
          "metadata": {},
          "execution_count": 105
        }
      ]
    },
    {
      "cell_type": "code",
      "source": [
        "counter.most_common(30)"
      ],
      "metadata": {
        "colab": {
          "base_uri": "https://localhost:8080/"
        },
        "id": "FQKlGNWil6jD",
        "outputId": "c18da594-3bfc-48a5-e2bb-91d35de6e96d"
      },
      "execution_count": 106,
      "outputs": [
        {
          "output_type": "execute_result",
          "data": {
            "text/plain": [
              "[('via', 213),\n",
              " ('new', 180),\n",
              " ('music', 131),\n",
              " ('love', 101),\n",
              " ('video', 89),\n",
              " ('like', 81),\n",
              " ('time', 76),\n",
              " ('one', 74),\n",
              " ('game', 69),\n",
              " ('team', 68),\n",
              " ('get', 68),\n",
              " ('great', 67),\n",
              " ('good', 66),\n",
              " ('see', 66),\n",
              " ('day', 65),\n",
              " ('year', 64),\n",
              " ('please', 63),\n",
              " ('us', 61),\n",
              " ('next', 61),\n",
              " ('today', 61),\n",
              " ('win', 58),\n",
              " ('first', 58),\n",
              " ('song', 58),\n",
              " ('watch', 56),\n",
              " ('really', 56),\n",
              " ('im', 54),\n",
              " ('go', 54),\n",
              " ('make', 53),\n",
              " ('back', 51),\n",
              " ('happy', 51)]"
            ]
          },
          "metadata": {},
          "execution_count": 106
        }
      ]
    },
    {
      "cell_type": "code",
      "source": [],
      "metadata": {
        "id": "glrjk01On4xJ"
      },
      "execution_count": null,
      "outputs": []
    }
  ]
}