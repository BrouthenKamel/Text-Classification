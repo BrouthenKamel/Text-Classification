{
  "cells": [
    {
      "cell_type": "markdown",
      "metadata": {
        "colab_type": "text",
        "id": "view-in-github"
      },
      "source": [
        "<a href=\"https://colab.research.google.com/github/BrouthenKamel/Text-Classification/blob/main/Text_Classification.ipynb\" target=\"_parent\"><img src=\"https://colab.research.google.com/assets/colab-badge.svg\" alt=\"Open In Colab\"/></a>"
      ]
    },
    {
      "cell_type": "markdown",
      "metadata": {
        "id": "r57Zwg76RD38"
      },
      "source": [
        "### Importing needed modules\n"
      ]
    },
    {
      "cell_type": "code",
      "execution_count": 1,
      "metadata": {
        "id": "imknd_T_QxKV"
      },
      "outputs": [],
      "source": [
        "import pandas as pd\n",
        "import numpy as np\n",
        "import matplotlib.pyplot as plt"
      ]
    },
    {
      "cell_type": "markdown",
      "metadata": {
        "id": "gIrG9q9XTU7B"
      },
      "source": [
        "### Loading the dataset"
      ]
    },
    {
      "cell_type": "code",
      "execution_count": 2,
      "metadata": {
        "id": "yP-cYw4rSCr3"
      },
      "outputs": [],
      "source": [
        "data_url = \"https://drive.google.com/file/d/1YByxDNQoDFbLIwNtA9nEEDfG7fFB4zjT/view?usp=share_link\"\n",
        "download_link = \"https://drive.google.com/uc?export=download&id=1YByxDNQoDFbLIwNtA9nEEDfG7fFB4zjT\"\n",
        "data_path = \"/content/text_topics.csv\""
      ]
    },
    {
      "cell_type": "code",
      "execution_count": 3,
      "metadata": {
        "id": "d-sujZzKRdAV"
      },
      "outputs": [],
      "source": [
        "data = pd.read_csv(download_link)"
      ]
    },
    {
      "cell_type": "markdown",
      "metadata": {
        "id": "sjt6n1TJRVPH"
      },
      "source": [
        "### Discovering the dataset"
      ]
    },
    {
      "cell_type": "code",
      "execution_count": 4,
      "metadata": {
        "colab": {
          "base_uri": "https://localhost:8080/",
          "height": 0
        },
        "id": "37ajej8J6V5X",
        "outputId": "a753937b-61aa-422a-9b3c-07a0db683833"
      },
      "outputs": [
        {
          "data": {
            "text/html": [
              "\n",
              "  <div id=\"df-00ce312a-0567-4e75-ab78-7147012ba351\">\n",
              "    <div class=\"colab-df-container\">\n",
              "      <div>\n",
              "<style scoped>\n",
              "    .dataframe tbody tr th:only-of-type {\n",
              "        vertical-align: middle;\n",
              "    }\n",
              "\n",
              "    .dataframe tbody tr th {\n",
              "        vertical-align: top;\n",
              "    }\n",
              "\n",
              "    .dataframe thead th {\n",
              "        text-align: right;\n",
              "    }\n",
              "</style>\n",
              "<table border=\"1\" class=\"dataframe\">\n",
              "  <thead>\n",
              "    <tr style=\"text-align: right;\">\n",
              "      <th></th>\n",
              "      <th>text</th>\n",
              "      <th>date</th>\n",
              "      <th>topics</th>\n",
              "      <th>id</th>\n",
              "    </tr>\n",
              "  </thead>\n",
              "  <tbody>\n",
              "    <tr>\n",
              "      <th>0</th>\n",
              "      <td>Barbara Bailey is the queen of broadcast news ...</td>\n",
              "      <td>2020-09-04</td>\n",
              "      <td>['film_tv_&amp;_video' 'news_&amp;_social_concern']</td>\n",
              "      <td>1301943102094139393</td>\n",
              "    </tr>\n",
              "    <tr>\n",
              "      <th>1</th>\n",
              "      <td>start the 20-21 school year off POSITIVE! let’...</td>\n",
              "      <td>2020-09-05</td>\n",
              "      <td>['diaries_&amp;_daily_life' 'youth_&amp;_student_life']</td>\n",
              "      <td>1302275052256342017</td>\n",
              "    </tr>\n",
              "    <tr>\n",
              "      <th>2</th>\n",
              "      <td>Worth watching at least the 1st 10mins if I wa...</td>\n",
              "      <td>2020-09-06</td>\n",
              "      <td>['film_tv_&amp;_video' 'news_&amp;_social_concern']</td>\n",
              "      <td>1302450647422259205</td>\n",
              "    </tr>\n",
              "    <tr>\n",
              "      <th>3</th>\n",
              "      <td>There s regular people and then there s {@Bail...</td>\n",
              "      <td>2020-09-06</td>\n",
              "      <td>['celebrity_&amp;_pop_culture']</td>\n",
              "      <td>1302452496011595776</td>\n",
              "    </tr>\n",
              "    <tr>\n",
              "      <th>4</th>\n",
              "      <td>Up with new grace, truly sorry on behalf of {@...</td>\n",
              "      <td>2020-09-06</td>\n",
              "      <td>['celebrity_&amp;_pop_culture' 'fitness_&amp;_health' ...</td>\n",
              "      <td>1302479114469867520</td>\n",
              "    </tr>\n",
              "  </tbody>\n",
              "</table>\n",
              "</div>\n",
              "      <button class=\"colab-df-convert\" onclick=\"convertToInteractive('df-00ce312a-0567-4e75-ab78-7147012ba351')\"\n",
              "              title=\"Convert this dataframe to an interactive table.\"\n",
              "              style=\"display:none;\">\n",
              "        \n",
              "  <svg xmlns=\"http://www.w3.org/2000/svg\" height=\"24px\"viewBox=\"0 0 24 24\"\n",
              "       width=\"24px\">\n",
              "    <path d=\"M0 0h24v24H0V0z\" fill=\"none\"/>\n",
              "    <path d=\"M18.56 5.44l.94 2.06.94-2.06 2.06-.94-2.06-.94-.94-2.06-.94 2.06-2.06.94zm-11 1L8.5 8.5l.94-2.06 2.06-.94-2.06-.94L8.5 2.5l-.94 2.06-2.06.94zm10 10l.94 2.06.94-2.06 2.06-.94-2.06-.94-.94-2.06-.94 2.06-2.06.94z\"/><path d=\"M17.41 7.96l-1.37-1.37c-.4-.4-.92-.59-1.43-.59-.52 0-1.04.2-1.43.59L10.3 9.45l-7.72 7.72c-.78.78-.78 2.05 0 2.83L4 21.41c.39.39.9.59 1.41.59.51 0 1.02-.2 1.41-.59l7.78-7.78 2.81-2.81c.8-.78.8-2.07 0-2.86zM5.41 20L4 18.59l7.72-7.72 1.47 1.35L5.41 20z\"/>\n",
              "  </svg>\n",
              "      </button>\n",
              "      \n",
              "  <style>\n",
              "    .colab-df-container {\n",
              "      display:flex;\n",
              "      flex-wrap:wrap;\n",
              "      gap: 12px;\n",
              "    }\n",
              "\n",
              "    .colab-df-convert {\n",
              "      background-color: #E8F0FE;\n",
              "      border: none;\n",
              "      border-radius: 50%;\n",
              "      cursor: pointer;\n",
              "      display: none;\n",
              "      fill: #1967D2;\n",
              "      height: 32px;\n",
              "      padding: 0 0 0 0;\n",
              "      width: 32px;\n",
              "    }\n",
              "\n",
              "    .colab-df-convert:hover {\n",
              "      background-color: #E2EBFA;\n",
              "      box-shadow: 0px 1px 2px rgba(60, 64, 67, 0.3), 0px 1px 3px 1px rgba(60, 64, 67, 0.15);\n",
              "      fill: #174EA6;\n",
              "    }\n",
              "\n",
              "    [theme=dark] .colab-df-convert {\n",
              "      background-color: #3B4455;\n",
              "      fill: #D2E3FC;\n",
              "    }\n",
              "\n",
              "    [theme=dark] .colab-df-convert:hover {\n",
              "      background-color: #434B5C;\n",
              "      box-shadow: 0px 1px 3px 1px rgba(0, 0, 0, 0.15);\n",
              "      filter: drop-shadow(0px 1px 2px rgba(0, 0, 0, 0.3));\n",
              "      fill: #FFFFFF;\n",
              "    }\n",
              "  </style>\n",
              "\n",
              "      <script>\n",
              "        const buttonEl =\n",
              "          document.querySelector('#df-00ce312a-0567-4e75-ab78-7147012ba351 button.colab-df-convert');\n",
              "        buttonEl.style.display =\n",
              "          google.colab.kernel.accessAllowed ? 'block' : 'none';\n",
              "\n",
              "        async function convertToInteractive(key) {\n",
              "          const element = document.querySelector('#df-00ce312a-0567-4e75-ab78-7147012ba351');\n",
              "          const dataTable =\n",
              "            await google.colab.kernel.invokeFunction('convertToInteractive',\n",
              "                                                     [key], {});\n",
              "          if (!dataTable) return;\n",
              "\n",
              "          const docLinkHtml = 'Like what you see? Visit the ' +\n",
              "            '<a target=\"_blank\" href=https://colab.research.google.com/notebooks/data_table.ipynb>data table notebook</a>'\n",
              "            + ' to learn more about interactive tables.';\n",
              "          element.innerHTML = '';\n",
              "          dataTable['output_type'] = 'display_data';\n",
              "          await google.colab.output.renderOutput(dataTable, element);\n",
              "          const docLink = document.createElement('div');\n",
              "          docLink.innerHTML = docLinkHtml;\n",
              "          element.appendChild(docLink);\n",
              "        }\n",
              "      </script>\n",
              "    </div>\n",
              "  </div>\n",
              "  "
            ],
            "text/plain": [
              "                                                text        date  \\\n",
              "0  Barbara Bailey is the queen of broadcast news ...  2020-09-04   \n",
              "1  start the 20-21 school year off POSITIVE! let’...  2020-09-05   \n",
              "2  Worth watching at least the 1st 10mins if I wa...  2020-09-06   \n",
              "3  There s regular people and then there s {@Bail...  2020-09-06   \n",
              "4  Up with new grace, truly sorry on behalf of {@...  2020-09-06   \n",
              "\n",
              "                                              topics                   id  \n",
              "0        ['film_tv_&_video' 'news_&_social_concern']  1301943102094139393  \n",
              "1    ['diaries_&_daily_life' 'youth_&_student_life']  1302275052256342017  \n",
              "2        ['film_tv_&_video' 'news_&_social_concern']  1302450647422259205  \n",
              "3                        ['celebrity_&_pop_culture']  1302452496011595776  \n",
              "4  ['celebrity_&_pop_culture' 'fitness_&_health' ...  1302479114469867520  "
            ]
          },
          "execution_count": 4,
          "metadata": {},
          "output_type": "execute_result"
        }
      ],
      "source": [
        "data.head()"
      ]
    },
    {
      "cell_type": "code",
      "execution_count": 5,
      "metadata": {
        "colab": {
          "base_uri": "https://localhost:8080/"
        },
        "id": "lvtTJR9_6eDg",
        "outputId": "ecc46b6a-1967-4857-e9be-fd64cd8384a3"
      },
      "outputs": [
        {
          "name": "stdout",
          "output_type": "stream",
          "text": [
            "<class 'pandas.core.frame.DataFrame'>\n",
            "RangeIndex: 1505 entries, 0 to 1504\n",
            "Data columns (total 4 columns):\n",
            " #   Column  Non-Null Count  Dtype \n",
            "---  ------  --------------  ----- \n",
            " 0   text    1505 non-null   object\n",
            " 1   date    1505 non-null   object\n",
            " 2   topics  1505 non-null   object\n",
            " 3   id      1505 non-null   int64 \n",
            "dtypes: int64(1), object(3)\n",
            "memory usage: 47.2+ KB\n"
          ]
        }
      ],
      "source": [
        "data.info()"
      ]
    },
    {
      "cell_type": "markdown",
      "metadata": {
        "id": "w-ZTkGjO6ymW"
      },
      "source": [
        "### Exploring the features"
      ]
    },
    {
      "cell_type": "code",
      "execution_count": 6,
      "metadata": {
        "colab": {
          "base_uri": "https://localhost:8080/"
        },
        "id": "GKL4i6KE6uOT",
        "outputId": "08374dd7-e02b-4835-dd85-9918a5ce4eb7"
      },
      "outputs": [
        {
          "data": {
            "text/plain": [
              "Index(['text', 'date', 'topics', 'id'], dtype='object')"
            ]
          },
          "execution_count": 6,
          "metadata": {},
          "output_type": "execute_result"
        }
      ],
      "source": [
        "columns = data.columns\n",
        "columns"
      ]
    },
    {
      "cell_type": "code",
      "execution_count": null,
      "metadata": {
        "colab": {
          "base_uri": "https://localhost:8080/"
        },
        "id": "LsUyiWNe6_Tz",
        "outputId": "034a5c56-dde0-484a-d786-6a2d3fa08d88"
      },
      "outputs": [],
      "source": [
        "data['topics'].unique()"
      ]
    },
    {
      "cell_type": "markdown",
      "metadata": {
        "id": "4kYpXwe_my0I"
      },
      "source": [
        "### Constructing the target vector"
      ]
    },
    {
      "cell_type": "code",
      "execution_count": 8,
      "metadata": {
        "id": "DJl3IBHL_OJL"
      },
      "outputs": [],
      "source": [
        "labels = []"
      ]
    },
    {
      "cell_type": "code",
      "execution_count": 9,
      "metadata": {
        "id": "Wp3tbfmW_rMa"
      },
      "outputs": [],
      "source": [
        "for label in data['topics'].values:\n",
        "  label_string = label[1:-1].replace('\\n', '')\n",
        "  #print(label_string)\n",
        "  label_list = [ category[1:-1] for category in label_string.split() ]\n",
        "  labels.append(label_list)"
      ]
    },
    {
      "cell_type": "code",
      "execution_count": 10,
      "metadata": {
        "colab": {
          "base_uri": "https://localhost:8080/"
        },
        "id": "NPeOH6ksCzGJ",
        "outputId": "52e09f44-71e7-453a-9a8e-f2530a4d389c"
      },
      "outputs": [
        {
          "data": {
            "text/plain": [
              "1505"
            ]
          },
          "execution_count": 10,
          "metadata": {},
          "output_type": "execute_result"
        }
      ],
      "source": [
        "len(labels)"
      ]
    },
    {
      "cell_type": "code",
      "execution_count": 11,
      "metadata": {
        "id": "Y1udQ9j0CnLz"
      },
      "outputs": [],
      "source": [
        "frequencies = dict()\n",
        "for label_list in labels:\n",
        "  for label in label_list:\n",
        "    if label not in frequencies.keys():\n",
        "      frequencies[label] = 1\n",
        "    else:\n",
        "      frequencies[label] += 1"
      ]
    },
    {
      "cell_type": "code",
      "execution_count": 12,
      "metadata": {
        "id": "WsrdJv0VDPPy"
      },
      "outputs": [],
      "source": [
        "frequencies = dict(sorted(frequencies.items(), key=lambda x: x[1], reverse=True))"
      ]
    },
    {
      "cell_type": "code",
      "execution_count": 13,
      "metadata": {
        "colab": {
          "base_uri": "https://localhost:8080/"
        },
        "id": "H2thnCwJDnyU",
        "outputId": "36c38e59-77fd-472f-c1ef-5f4ea5ca1891"
      },
      "outputs": [
        {
          "data": {
            "text/plain": [
              "{'sports': 532,\n",
              " 'music': 362,\n",
              " 'news_&_social_concern': 289,\n",
              " 'film_tv_&_video': 231,\n",
              " 'celebrity_&_pop_culture': 210,\n",
              " 'diaries_&_daily_life': 135,\n",
              " 'business_&_entrepreneurs': 80,\n",
              " 'other_hobbies': 70,\n",
              " 'science_&_technology': 65,\n",
              " 'gaming': 56,\n",
              " 'relationships': 55,\n",
              " 'fitness_&_health': 44,\n",
              " 'arts_&_culture': 42,\n",
              " 'fashion_&_style': 33,\n",
              " 'family': 30,\n",
              " 'learning_&_educational': 23,\n",
              " 'food_&_dining': 22,\n",
              " 'travel_&_adventure': 14,\n",
              " 'youth_&_student_life': 11}"
            ]
          },
          "execution_count": 13,
          "metadata": {},
          "output_type": "execute_result"
        }
      ],
      "source": [
        "frequencies"
      ]
    },
    {
      "cell_type": "code",
      "execution_count": 14,
      "metadata": {
        "colab": {
          "base_uri": "https://localhost:8080/",
          "height": 0
        },
        "id": "P6rZKADxD9qk",
        "outputId": "6d87816a-4b8b-48c1-8f9d-8b5df1848911"
      },
      "outputs": [
        {
          "data": {
            "image/png": "[encoded data removed]",
            "text/plain": [
              "<Figure size 1440x576 with 1 Axes>"
            ]
          },
          "metadata": {
            "needs_background": "light"
          },
          "output_type": "display_data"
        }
      ],
      "source": [
        "plt.figure(figsize=(20, 8))\n",
        "\n",
        "plt.bar(frequencies.keys(), frequencies.values(), width=0.8)\n",
        "\n",
        "plt.title('Text Categories')\n",
        "plt.xlabel('Category')\n",
        "plt.ylabel('Frequency')\n",
        "\n",
        "plt.xticks(rotation=-90)\n",
        "\n",
        "plt.show()"
      ]
    },
    {
      "cell_type": "code",
      "execution_count": 15,
      "metadata": {
        "id": "iBcT1Jz5G_IF"
      },
      "outputs": [],
      "source": [
        "topics_columns = dict()\n",
        "\n",
        "for category in frequencies.keys():\n",
        "  topic_column = []\n",
        "  for data_point in labels:\n",
        "    if category in data_point:\n",
        "      topic_column.append(1)\n",
        "    else:\n",
        "      topic_column.append(0)\n",
        "  topics_columns[category] = topic_column"
      ]
    },
    {
      "cell_type": "code",
      "execution_count": 16,
      "metadata": {
        "id": "us4LlwvYJIGh"
      },
      "outputs": [],
      "source": [
        "for category in frequencies.keys():\n",
        "  data[category] = topics_columns[category]"
      ]
    },
    {
      "cell_type": "code",
      "execution_count": 17,
      "metadata": {
        "colab": {
          "base_uri": "https://localhost:8080/"
        },
        "id": "ByxUweyRKSd3",
        "outputId": "fd403d1e-d071-462e-cb6b-a49e30f66295"
      },
      "outputs": [
        {
          "data": {
            "text/plain": [
              "Index(['text', 'date', 'topics', 'id', 'sports', 'music',\n",
              "       'news_&_social_concern', 'film_tv_&_video', 'celebrity_&_pop_culture',\n",
              "       'diaries_&_daily_life', 'business_&_entrepreneurs', 'other_hobbies',\n",
              "       'science_&_technology', 'gaming', 'relationships', 'fitness_&_health',\n",
              "       'arts_&_culture', 'fashion_&_style', 'family', 'learning_&_educational',\n",
              "       'food_&_dining', 'travel_&_adventure', 'youth_&_student_life'],\n",
              "      dtype='object')"
            ]
          },
          "execution_count": 17,
          "metadata": {},
          "output_type": "execute_result"
        }
      ],
      "source": [
        "data.columns"
      ]
    },
    {
      "cell_type": "markdown",
      "metadata": {
        "id": "G835ij_Knkcu"
      },
      "source": [
        "### The new dataset"
      ]
    },
    {
      "cell_type": "code",
      "execution_count": 18,
      "metadata": {
        "id": "ejaQ3aQtKcJp"
      },
      "outputs": [],
      "source": [
        "dataset = data.drop(columns = ['date', 'topics', 'id'] )"
      ]
    },
    {
      "cell_type": "markdown",
      "metadata": {
        "id": "f-CCNDGE5sQq"
      },
      "source": [
        "### Feature Engineering"
      ]
    },
    {
      "cell_type": "code",
      "execution_count": 21,
      "metadata": {
        "colab": {
          "base_uri": "https://localhost:8080/",
          "height": 0
        },
        "id": "-axvJTZn6bQa",
        "outputId": "d4f324bb-6c98-46c0-db23-bb4a151cf34e"
      },
      "outputs": [
        {
          "data": {
            "image/png": "[encoded data removed]",
            "text/plain": [
              "<Figure size 864x864 with 2 Axes>"
            ]
          },
          "metadata": {
            "needs_background": "light"
          },
          "output_type": "display_data"
        }
      ],
      "source": [
        "corr_matrix = dataset.corr()\n",
        "\n",
        "fig, ax = plt.subplots(figsize=(12,12))\n",
        "im = ax.imshow(corr_matrix, cmap='coolwarm')\n",
        "\n",
        "cbar = ax.figure.colorbar(im, ax=ax)\n",
        "\n",
        "ticks = np.arange(len(corr_matrix.columns))\n",
        "ax.set_xticks(ticks)\n",
        "ax.set_yticks(ticks)\n",
        "ax.set_xticklabels(corr_matrix.columns)\n",
        "ax.set_yticklabels(corr_matrix.columns)\n",
        "\n",
        "plt.setp(ax.get_xticklabels(), rotation=45, ha=\"right\",\n",
        "         rotation_mode=\"anchor\")\n",
        "\n",
        "for i in range(len(corr_matrix.columns)):\n",
        "    for j in range(len(corr_matrix.columns)):\n",
        "        text = ax.text(j, i, np.round(corr_matrix.iloc[i, j], decimals=2),\n",
        "                       ha=\"center\", va=\"center\", color=\"black\")\n",
        "\n",
        "ax.set_title(\"Correlation Matrix\")\n",
        "\n",
        "plt.show()"
      ]
    },
    {
      "cell_type": "code",
      "execution_count": null,
      "metadata": {
        "colab": {
          "base_uri": "https://localhost:8080/"
        },
        "id": "d5f3rFKI8C5o",
        "outputId": "5572d132-e854-4fb6-8a89-6bfc8af1bf45"
      },
      "outputs": [],
      "source": [
        "for category in corr_matrix.columns:\n",
        "  print(f\"The most correlated categories with {category} : \")\n",
        "  for other in corr_matrix.drop(columns = [category]).columns:\n",
        "    if corr_matrix.loc[category, other] > 0.1:\n",
        "      print(f\"-> {other} = {corr_matrix.loc[category, other]:.2f}\") \n",
        "  print(\"\\n\")"
      ]
    },
    {
      "cell_type": "code",
      "execution_count": 24,
      "metadata": {
        "id": "AVbcI4zn-Q6j"
      },
      "outputs": [],
      "source": [
        "categories = dict()\n",
        "for category in corr_matrix.columns:\n",
        "  categories[category] = [ 0 for _ in range(len(corr_matrix.columns)) ]\n",
        "\n",
        "for index, category in enumerate(corr_matrix.columns):\n",
        "  for datapoint in dataset.drop(columns = [\"text\"]).values:\n",
        "    if( datapoint[index] == 1 ):\n",
        "      for other_index, other_category in enumerate(datapoint):\n",
        "        if other_category == 1:\n",
        "          categories[category][other_index] += 1"
      ]
    },
    {
      "cell_type": "code",
      "execution_count": 25,
      "metadata": {
        "id": "UGsLlemiBZck"
      },
      "outputs": [],
      "source": [
        "correlations = pd.DataFrame(categories, index = corr_matrix.columns)"
      ]
    },
    {
      "cell_type": "code",
      "execution_count": 27,
      "metadata": {
        "colab": {
          "base_uri": "https://localhost:8080/"
        },
        "id": "9limUAbLILLG",
        "outputId": "83f8678a-6a94-44a9-906e-2f577b207c24"
      },
      "outputs": [
        {
          "data": {
            "text/plain": [
              "music                        0\n",
              "news_&_social_concern       53\n",
              "film_tv_&_video              0\n",
              "celebrity_&_pop_culture      0\n",
              "diaries_&_daily_life         0\n",
              "business_&_entrepreneurs     0\n",
              "other_hobbies                2\n",
              "science_&_technology         0\n",
              "gaming                      26\n",
              "relationships                4\n",
              "fitness_&_health             8\n",
              "arts_&_culture               0\n",
              "fashion_&_style              3\n",
              "family                       0\n",
              "learning_&_educational       1\n",
              "food_&_dining                3\n",
              "travel_&_adventure           1\n",
              "youth_&_student_life         2\n",
              "Name: sports, dtype: int64"
            ]
          },
          "execution_count": 27,
          "metadata": {},
          "output_type": "execute_result"
        }
      ],
      "source": [
        "correlations[\"sports\"].drop(\"sports\")"
      ]
    },
    {
      "cell_type": "code",
      "execution_count": null,
      "metadata": {
        "colab": {
          "base_uri": "https://localhost:8080/",
          "height": 0
        },
        "id": "XyC0WfStCr7z",
        "outputId": "48f38b66-c21a-4628-bfdc-a0c61ad315bc"
      },
      "outputs": [],
      "source": [
        "for category in correlations.columns:\n",
        "  fig, ax = plt.subplots(figsize = (10, 6))\n",
        "  x = correlations.columns #.drop(columns = [category])\n",
        "  y = correlations[category]#.drop(category)\n",
        "\n",
        "  ax.bar(x, y)\n",
        "\n",
        "  ax.set_xlabel(\"Categories\")\n",
        "  ax.set_ylabel(\"Occurrences\")\n",
        "  ax.set_title(f'Category : {category}')\n",
        "\n",
        "  plt.xticks(rotation=-90)\n",
        "\n",
        "  plt.show()\n",
        "\n",
        "  print(\"\\n\")"
      ]
    },
    {
      "cell_type": "markdown",
      "metadata": {
        "id": "uxvuj3hRnrQh"
      },
      "source": [
        "### Data cleaning"
      ]
    },
    {
      "cell_type": "markdown",
      "metadata": {
        "id": "vYysj3z4YcEV"
      },
      "source": [
        "Examinig potential cleaning steps"
      ]
    },
    {
      "cell_type": "code",
      "execution_count": null,
      "metadata": {
        "colab": {
          "base_uri": "https://localhost:8080/"
        },
        "id": "LZya2j5YLm1r",
        "outputId": "45b33189-5094-4813-9fac-48e7ecd3bae7"
      },
      "outputs": [],
      "source": [
        "dataset['text'].sample(n=10).values.tolist()"
      ]
    },
    {
      "cell_type": "code",
      "execution_count": 30,
      "metadata": {
        "id": "j34YISQkUZmP"
      },
      "outputs": [],
      "source": [
        "import re\n",
        "import string"
      ]
    },
    {
      "cell_type": "markdown",
      "metadata": {
        "id": "W1VgVQVoYY9R"
      },
      "source": [
        "Removing Tags "
      ]
    },
    {
      "cell_type": "code",
      "execution_count": 31,
      "metadata": {
        "id": "OiXLOumKVYiu"
      },
      "outputs": [],
      "source": [
        "def remove_tag(text):\n",
        "    url = re.compile(r\"({.*?}|\\{\\{.*?\\}\\})\")\n",
        "    return url.sub(r\"\", text)"
      ]
    },
    {
      "cell_type": "code",
      "execution_count": 32,
      "metadata": {
        "id": "nWguFBtXVZ51"
      },
      "outputs": [],
      "source": [
        "dataset['clean_text'] = dataset[\"text\"].apply(remove_tag)"
      ]
    },
    {
      "cell_type": "code",
      "execution_count": null,
      "metadata": {
        "colab": {
          "base_uri": "https://localhost:8080/"
        },
        "id": "MaIQtqShXGhL",
        "outputId": "4725e1bf-7427-42fc-f7e2-9d9ba16e37ba"
      },
      "outputs": [],
      "source": [
        "dataset['clean_text'].sample(n=10).values.tolist()"
      ]
    },
    {
      "cell_type": "markdown",
      "metadata": {
        "id": "B_PttGgUYiIg"
      },
      "source": [
        "Removing punctuations"
      ]
    },
    {
      "cell_type": "code",
      "execution_count": 34,
      "metadata": {
        "colab": {
          "base_uri": "https://localhost:8080/",
          "height": 0
        },
        "id": "hgLoewiIWjEq",
        "outputId": "8a2c622a-51c6-4ca5-8105-e443ad5f9538"
      },
      "outputs": [
        {
          "data": {
            "application/vnd.google.colaboratory.intrinsic+json": {
              "type": "string"
            },
            "text/plain": [
              "'!\"#$%&\\'()*+,-./:;<=>?@[\\\\]^_`{|}~'"
            ]
          },
          "execution_count": 34,
          "metadata": {},
          "output_type": "execute_result"
        }
      ],
      "source": [
        "string.punctuation"
      ]
    },
    {
      "cell_type": "code",
      "execution_count": 35,
      "metadata": {
        "id": "dmkAcY3oVWB4"
      },
      "outputs": [],
      "source": [
        "def remove_punct(text):\n",
        "    translator = str.maketrans(\"\", \"\", string.punctuation)\n",
        "    return text.translate(translator)"
      ]
    },
    {
      "cell_type": "code",
      "execution_count": 36,
      "metadata": {
        "id": "i9SBFrgGZksM"
      },
      "outputs": [],
      "source": [
        "dataset['clean_text'] = dataset[\"clean_text\"].apply(remove_punct)"
      ]
    },
    {
      "cell_type": "code",
      "execution_count": 37,
      "metadata": {
        "colab": {
          "base_uri": "https://localhost:8080/"
        },
        "id": "D3XHrPPQaJsL",
        "outputId": "2904963e-5820-4008-8f07-b6e5a48c702a"
      },
      "outputs": [
        {
          "name": "stderr",
          "output_type": "stream",
          "text": [
            "<ipython-input-37-f0fe9302765c>:1: FutureWarning: The default value of regex will change from True to False in a future version.\n",
            "  dataset['clean_text'] = dataset['clean_text'].str.replace('[\\[\\]]', '')\n"
          ]
        }
      ],
      "source": [
        "dataset['clean_text'] = dataset['clean_text'].str.replace('[\\[\\]]', '')"
      ]
    },
    {
      "cell_type": "code",
      "execution_count": 38,
      "metadata": {
        "colab": {
          "base_uri": "https://localhost:8080/"
        },
        "id": "SE9RLSScaPTy",
        "outputId": "3ed53085-e0bf-45d1-d8d4-71ccae682429"
      },
      "outputs": [
        {
          "data": {
            "text/plain": [
              "array(['make it happen  bring the boy Home ',\n",
              "       'Stay safe everyone   I followed  and I vote LISA of BLACKPINK\\xa0for BiggestCrush at TDYAwards  '],\n",
              "      dtype=object)"
            ]
          },
          "execution_count": 38,
          "metadata": {},
          "output_type": "execute_result"
        }
      ],
      "source": [
        "dataset[\"clean_text\"].sample(n=2).values"
      ]
    },
    {
      "cell_type": "markdown",
      "metadata": {
        "id": "tGsazNrXYof4"
      },
      "source": [
        "Removing stop words"
      ]
    },
    {
      "cell_type": "code",
      "execution_count": 39,
      "metadata": {
        "colab": {
          "base_uri": "https://localhost:8080/"
        },
        "id": "GnzslTyucENc",
        "outputId": "c9515957-c0e0-455e-daf1-c83eb373bf8a"
      },
      "outputs": [
        {
          "name": "stderr",
          "output_type": "stream",
          "text": [
            "[nltk_data] Downloading package stopwords to /root/nltk_data...\n",
            "[nltk_data]   Package stopwords is already up-to-date!\n"
          ]
        }
      ],
      "source": [
        "import nltk\n",
        "nltk.download('stopwords')\n",
        "from nltk.corpus import stopwords\n",
        "\n",
        "stop = set(stopwords.words(\"english\"))"
      ]
    },
    {
      "cell_type": "code",
      "execution_count": 41,
      "metadata": {
        "id": "Rca1nL-KcIw4"
      },
      "outputs": [],
      "source": [
        "def remove_stopwords(text):\n",
        "    filtered_words = [word.lower() for word in text.split() if word.lower() not in stop]\n",
        "    return \" \".join(filtered_words)"
      ]
    },
    {
      "cell_type": "code",
      "execution_count": 42,
      "metadata": {
        "id": "vMTSKqFccsKy"
      },
      "outputs": [],
      "source": [
        "dataset['reduced_text'] = dataset[\"clean_text\"].apply(remove_stopwords)"
      ]
    },
    {
      "cell_type": "code",
      "execution_count": 43,
      "metadata": {
        "colab": {
          "base_uri": "https://localhost:8080/"
        },
        "id": "igp6hS9XcxzU",
        "outputId": "b88843fe-92eb-4f48-93ff-93e608c43837"
      },
      "outputs": [
        {
          "data": {
            "text/plain": [
              "array(['ok looking good romcom great movie general recommend map tiny perfect things really good job involved loved',\n",
              "       'part 2 story movie 372021 via',\n",
              "       'everyone follow twitch close 600 really pog tell said',\n",
              "       'really love song treatpeoplewithkindness would really cool play today please�d83d�de4f�d83c�dffc'],\n",
              "      dtype=object)"
            ]
          },
          "execution_count": 43,
          "metadata": {},
          "output_type": "execute_result"
        }
      ],
      "source": [
        "dataset[\"reduced_text\"].sample(n=4).values"
      ]
    },
    {
      "cell_type": "markdown",
      "metadata": {
        "id": "jo93jA3pYv0N"
      },
      "source": [
        "Keeping only Alphanumerical characters"
      ]
    },
    {
      "cell_type": "code",
      "execution_count": 44,
      "metadata": {
        "colab": {
          "base_uri": "https://localhost:8080/"
        },
        "id": "k49EXFqJkFkg",
        "outputId": "35674e52-e0e2-45f3-85ee-8dcaceb0aae2"
      },
      "outputs": [
        {
          "name": "stderr",
          "output_type": "stream",
          "text": [
            "<ipython-input-44-c0916d6bb42c>:1: FutureWarning: The default value of regex will change from True to False in a future version.\n",
            "  dataset['clean_text'] = dataset['reduced_text'].str.replace(r'[^a-zA-Z ]', '')\n"
          ]
        }
      ],
      "source": [
        "dataset['clean_text'] = dataset['reduced_text'].str.replace(r'[^a-zA-Z ]', '')"
      ]
    },
    {
      "cell_type": "code",
      "execution_count": 45,
      "metadata": {
        "colab": {
          "base_uri": "https://localhost:8080/"
        },
        "id": "88ngmVmZkTbX",
        "outputId": "f3678d68-f78a-4bce-8c49-79bd595c3154"
      },
      "outputs": [
        {
          "data": {
            "text/plain": [
              "array(['sunday morning catch cricket indvseng channelcricket brentwood billericay',\n",
              "       'umusic video wami wokqala lo bafethu please watch subscribe comment share link new music video friends mbzet ndifunawena official music video feat link thank blackcoffee',\n",
              "       'looking forward battle florida playoffs wow heatingup',\n",
              "       'found line com colares de zaius garlands jasmine flowers goan portuguese short story reading actually reference'],\n",
              "      dtype=object)"
            ]
          },
          "execution_count": 45,
          "metadata": {},
          "output_type": "execute_result"
        }
      ],
      "source": [
        "dataset['clean_text'].sample(n=4).values"
      ]
    },
    {
      "cell_type": "markdown",
      "metadata": {
        "id": "4-DjwmtQnxKV"
      },
      "source": [
        "### Check the vocabulary"
      ]
    },
    {
      "cell_type": "code",
      "execution_count": 46,
      "metadata": {
        "id": "qQJElg7rjgTK"
      },
      "outputs": [],
      "source": [
        "from collections import Counter\n",
        "\n",
        "def counter_word(text_col):\n",
        "    count = Counter()\n",
        "    for text in text_col.values:\n",
        "        for word in text.split():\n",
        "            count[word] += 1\n",
        "    return count\n",
        "\n",
        "counter = counter_word(dataset[\"clean_text\"])"
      ]
    },
    {
      "cell_type": "code",
      "execution_count": 47,
      "metadata": {
        "colab": {
          "base_uri": "https://localhost:8080/"
        },
        "id": "0ub5Bhrjjk8f",
        "outputId": "6e5cb437-8156-437e-84ef-89bd0d97a3db"
      },
      "outputs": [
        {
          "data": {
            "text/plain": [
              "7371"
            ]
          },
          "execution_count": 47,
          "metadata": {},
          "output_type": "execute_result"
        }
      ],
      "source": [
        "len(counter)"
      ]
    },
    {
      "cell_type": "code",
      "execution_count": 48,
      "metadata": {
        "colab": {
          "base_uri": "https://localhost:8080/"
        },
        "id": "FQKlGNWil6jD",
        "outputId": "fe958b63-e8bb-4b9c-fac2-1ade03ea8903"
      },
      "outputs": [
        {
          "data": {
            "text/plain": [
              "[('via', 213),\n",
              " ('new', 180),\n",
              " ('music', 131),\n",
              " ('love', 101),\n",
              " ('video', 89),\n",
              " ('like', 81),\n",
              " ('time', 76),\n",
              " ('one', 74),\n",
              " ('game', 69),\n",
              " ('team', 68)]"
            ]
          },
          "execution_count": 48,
          "metadata": {},
          "output_type": "execute_result"
        }
      ],
      "source": [
        "counter.most_common(10)"
      ]
    },
    {
      "cell_type": "markdown",
      "metadata": {
        "id": "vA0GeD8bAHAK"
      },
      "source": [
        "### Exploring statistical insights"
      ]
    },
    {
      "cell_type": "code",
      "execution_count": 49,
      "metadata": {
        "id": "_m2DFoSsts9T"
      },
      "outputs": [],
      "source": [
        "X = dataset[\"clean_text\"]"
      ]
    },
    {
      "cell_type": "code",
      "execution_count": 50,
      "metadata": {
        "colab": {
          "base_uri": "https://localhost:8080/"
        },
        "id": "MHYC1eRWsb18",
        "outputId": "ae4a90db-1bd7-4289-8786-6cb1eb396ae5"
      },
      "outputs": [
        {
          "data": {
            "text/plain": [
              "0       barbara bailey queen broadcast news central ea...\n",
              "1       start  school year positive lets start thread ...\n",
              "2       worth watching least st mins minister love  of...\n",
              "3                         regular people queen everything\n",
              "4       new grace truly sorry behalf dont endorse bad ...\n",
              "                              ...                        \n",
              "1500                 like jamescorden someone help figure\n",
              "1501    hats team field tracking hurricaneida keeping ...\n",
              "1502    truth love realeven everyone gangs yougod isnt...\n",
              "1503    hmu quality assured results essay due pay writ...\n",
              "1504    thinking everyone idas path friends please sta...\n",
              "Name: clean_text, Length: 1505, dtype: object"
            ]
          },
          "execution_count": 50,
          "metadata": {},
          "output_type": "execute_result"
        }
      ],
      "source": [
        "X"
      ]
    },
    {
      "cell_type": "code",
      "execution_count": 51,
      "metadata": {
        "id": "UH6bmyQhtv4e"
      },
      "outputs": [],
      "source": [
        "y = dataset.drop(columns = ['reduced_text', 'clean_text', 'text'])"
      ]
    },
    {
      "cell_type": "code",
      "execution_count": 52,
      "metadata": {
        "colab": {
          "base_uri": "https://localhost:8080/",
          "height": 0
        },
        "id": "Ev_yOvVlARsw",
        "outputId": "0d373f8b-ef10-419d-e24a-2461334be765"
      },
      "outputs": [
        {
          "data": {
            "text/html": [
              "\n",
              "  <div id=\"df-e459b2a1-ec05-4350-8612-2f1c282c7204\">\n",
              "    <div class=\"colab-df-container\">\n",
              "      <div>\n",
              "<style scoped>\n",
              "    .dataframe tbody tr th:only-of-type {\n",
              "        vertical-align: middle;\n",
              "    }\n",
              "\n",
              "    .dataframe tbody tr th {\n",
              "        vertical-align: top;\n",
              "    }\n",
              "\n",
              "    .dataframe thead th {\n",
              "        text-align: right;\n",
              "    }\n",
              "</style>\n",
              "<table border=\"1\" class=\"dataframe\">\n",
              "  <thead>\n",
              "    <tr style=\"text-align: right;\">\n",
              "      <th></th>\n",
              "      <th>sports</th>\n",
              "      <th>music</th>\n",
              "      <th>news_&amp;_social_concern</th>\n",
              "      <th>film_tv_&amp;_video</th>\n",
              "      <th>celebrity_&amp;_pop_culture</th>\n",
              "      <th>diaries_&amp;_daily_life</th>\n",
              "      <th>business_&amp;_entrepreneurs</th>\n",
              "      <th>other_hobbies</th>\n",
              "      <th>science_&amp;_technology</th>\n",
              "      <th>gaming</th>\n",
              "      <th>relationships</th>\n",
              "      <th>fitness_&amp;_health</th>\n",
              "      <th>arts_&amp;_culture</th>\n",
              "      <th>fashion_&amp;_style</th>\n",
              "      <th>family</th>\n",
              "      <th>learning_&amp;_educational</th>\n",
              "      <th>food_&amp;_dining</th>\n",
              "      <th>travel_&amp;_adventure</th>\n",
              "      <th>youth_&amp;_student_life</th>\n",
              "    </tr>\n",
              "  </thead>\n",
              "  <tbody>\n",
              "    <tr>\n",
              "      <th>0</th>\n",
              "      <td>0</td>\n",
              "      <td>0</td>\n",
              "      <td>1</td>\n",
              "      <td>1</td>\n",
              "      <td>0</td>\n",
              "      <td>0</td>\n",
              "      <td>0</td>\n",
              "      <td>0</td>\n",
              "      <td>0</td>\n",
              "      <td>0</td>\n",
              "      <td>0</td>\n",
              "      <td>0</td>\n",
              "      <td>0</td>\n",
              "      <td>0</td>\n",
              "      <td>0</td>\n",
              "      <td>0</td>\n",
              "      <td>0</td>\n",
              "      <td>0</td>\n",
              "      <td>0</td>\n",
              "    </tr>\n",
              "    <tr>\n",
              "      <th>1</th>\n",
              "      <td>0</td>\n",
              "      <td>0</td>\n",
              "      <td>0</td>\n",
              "      <td>0</td>\n",
              "      <td>0</td>\n",
              "      <td>1</td>\n",
              "      <td>0</td>\n",
              "      <td>0</td>\n",
              "      <td>0</td>\n",
              "      <td>0</td>\n",
              "      <td>0</td>\n",
              "      <td>0</td>\n",
              "      <td>0</td>\n",
              "      <td>0</td>\n",
              "      <td>0</td>\n",
              "      <td>0</td>\n",
              "      <td>0</td>\n",
              "      <td>0</td>\n",
              "      <td>1</td>\n",
              "    </tr>\n",
              "    <tr>\n",
              "      <th>2</th>\n",
              "      <td>0</td>\n",
              "      <td>0</td>\n",
              "      <td>1</td>\n",
              "      <td>1</td>\n",
              "      <td>0</td>\n",
              "      <td>0</td>\n",
              "      <td>0</td>\n",
              "      <td>0</td>\n",
              "      <td>0</td>\n",
              "      <td>0</td>\n",
              "      <td>0</td>\n",
              "      <td>0</td>\n",
              "      <td>0</td>\n",
              "      <td>0</td>\n",
              "      <td>0</td>\n",
              "      <td>0</td>\n",
              "      <td>0</td>\n",
              "      <td>0</td>\n",
              "      <td>0</td>\n",
              "    </tr>\n",
              "    <tr>\n",
              "      <th>3</th>\n",
              "      <td>0</td>\n",
              "      <td>0</td>\n",
              "      <td>0</td>\n",
              "      <td>0</td>\n",
              "      <td>1</td>\n",
              "      <td>0</td>\n",
              "      <td>0</td>\n",
              "      <td>0</td>\n",
              "      <td>0</td>\n",
              "      <td>0</td>\n",
              "      <td>0</td>\n",
              "      <td>0</td>\n",
              "      <td>0</td>\n",
              "      <td>0</td>\n",
              "      <td>0</td>\n",
              "      <td>0</td>\n",
              "      <td>0</td>\n",
              "      <td>0</td>\n",
              "      <td>0</td>\n",
              "    </tr>\n",
              "    <tr>\n",
              "      <th>4</th>\n",
              "      <td>0</td>\n",
              "      <td>0</td>\n",
              "      <td>1</td>\n",
              "      <td>0</td>\n",
              "      <td>1</td>\n",
              "      <td>0</td>\n",
              "      <td>0</td>\n",
              "      <td>0</td>\n",
              "      <td>0</td>\n",
              "      <td>0</td>\n",
              "      <td>0</td>\n",
              "      <td>1</td>\n",
              "      <td>0</td>\n",
              "      <td>0</td>\n",
              "      <td>0</td>\n",
              "      <td>0</td>\n",
              "      <td>0</td>\n",
              "      <td>0</td>\n",
              "      <td>0</td>\n",
              "    </tr>\n",
              "    <tr>\n",
              "      <th>...</th>\n",
              "      <td>...</td>\n",
              "      <td>...</td>\n",
              "      <td>...</td>\n",
              "      <td>...</td>\n",
              "      <td>...</td>\n",
              "      <td>...</td>\n",
              "      <td>...</td>\n",
              "      <td>...</td>\n",
              "      <td>...</td>\n",
              "      <td>...</td>\n",
              "      <td>...</td>\n",
              "      <td>...</td>\n",
              "      <td>...</td>\n",
              "      <td>...</td>\n",
              "      <td>...</td>\n",
              "      <td>...</td>\n",
              "      <td>...</td>\n",
              "      <td>...</td>\n",
              "      <td>...</td>\n",
              "    </tr>\n",
              "    <tr>\n",
              "      <th>1500</th>\n",
              "      <td>0</td>\n",
              "      <td>0</td>\n",
              "      <td>0</td>\n",
              "      <td>0</td>\n",
              "      <td>1</td>\n",
              "      <td>0</td>\n",
              "      <td>0</td>\n",
              "      <td>0</td>\n",
              "      <td>0</td>\n",
              "      <td>0</td>\n",
              "      <td>0</td>\n",
              "      <td>0</td>\n",
              "      <td>0</td>\n",
              "      <td>0</td>\n",
              "      <td>0</td>\n",
              "      <td>0</td>\n",
              "      <td>0</td>\n",
              "      <td>0</td>\n",
              "      <td>0</td>\n",
              "    </tr>\n",
              "    <tr>\n",
              "      <th>1501</th>\n",
              "      <td>0</td>\n",
              "      <td>0</td>\n",
              "      <td>1</td>\n",
              "      <td>1</td>\n",
              "      <td>1</td>\n",
              "      <td>0</td>\n",
              "      <td>0</td>\n",
              "      <td>0</td>\n",
              "      <td>0</td>\n",
              "      <td>0</td>\n",
              "      <td>0</td>\n",
              "      <td>0</td>\n",
              "      <td>0</td>\n",
              "      <td>0</td>\n",
              "      <td>0</td>\n",
              "      <td>0</td>\n",
              "      <td>0</td>\n",
              "      <td>0</td>\n",
              "      <td>0</td>\n",
              "    </tr>\n",
              "    <tr>\n",
              "      <th>1502</th>\n",
              "      <td>0</td>\n",
              "      <td>0</td>\n",
              "      <td>0</td>\n",
              "      <td>0</td>\n",
              "      <td>0</td>\n",
              "      <td>0</td>\n",
              "      <td>0</td>\n",
              "      <td>0</td>\n",
              "      <td>0</td>\n",
              "      <td>0</td>\n",
              "      <td>1</td>\n",
              "      <td>0</td>\n",
              "      <td>1</td>\n",
              "      <td>0</td>\n",
              "      <td>0</td>\n",
              "      <td>0</td>\n",
              "      <td>0</td>\n",
              "      <td>0</td>\n",
              "      <td>0</td>\n",
              "    </tr>\n",
              "    <tr>\n",
              "      <th>1503</th>\n",
              "      <td>0</td>\n",
              "      <td>0</td>\n",
              "      <td>0</td>\n",
              "      <td>0</td>\n",
              "      <td>0</td>\n",
              "      <td>0</td>\n",
              "      <td>1</td>\n",
              "      <td>0</td>\n",
              "      <td>0</td>\n",
              "      <td>0</td>\n",
              "      <td>0</td>\n",
              "      <td>0</td>\n",
              "      <td>0</td>\n",
              "      <td>0</td>\n",
              "      <td>0</td>\n",
              "      <td>1</td>\n",
              "      <td>0</td>\n",
              "      <td>0</td>\n",
              "      <td>1</td>\n",
              "    </tr>\n",
              "    <tr>\n",
              "      <th>1504</th>\n",
              "      <td>0</td>\n",
              "      <td>0</td>\n",
              "      <td>1</td>\n",
              "      <td>0</td>\n",
              "      <td>0</td>\n",
              "      <td>0</td>\n",
              "      <td>0</td>\n",
              "      <td>0</td>\n",
              "      <td>0</td>\n",
              "      <td>0</td>\n",
              "      <td>1</td>\n",
              "      <td>0</td>\n",
              "      <td>0</td>\n",
              "      <td>0</td>\n",
              "      <td>1</td>\n",
              "      <td>0</td>\n",
              "      <td>0</td>\n",
              "      <td>0</td>\n",
              "      <td>0</td>\n",
              "    </tr>\n",
              "  </tbody>\n",
              "</table>\n",
              "<p>1505 rows × 19 columns</p>\n",
              "</div>\n",
              "      <button class=\"colab-df-convert\" onclick=\"convertToInteractive('df-e459b2a1-ec05-4350-8612-2f1c282c7204')\"\n",
              "              title=\"Convert this dataframe to an interactive table.\"\n",
              "              style=\"display:none;\">\n",
              "        \n",
              "  <svg xmlns=\"http://www.w3.org/2000/svg\" height=\"24px\"viewBox=\"0 0 24 24\"\n",
              "       width=\"24px\">\n",
              "    <path d=\"M0 0h24v24H0V0z\" fill=\"none\"/>\n",
              "    <path d=\"M18.56 5.44l.94 2.06.94-2.06 2.06-.94-2.06-.94-.94-2.06-.94 2.06-2.06.94zm-11 1L8.5 8.5l.94-2.06 2.06-.94-2.06-.94L8.5 2.5l-.94 2.06-2.06.94zm10 10l.94 2.06.94-2.06 2.06-.94-2.06-.94-.94-2.06-.94 2.06-2.06.94z\"/><path d=\"M17.41 7.96l-1.37-1.37c-.4-.4-.92-.59-1.43-.59-.52 0-1.04.2-1.43.59L10.3 9.45l-7.72 7.72c-.78.78-.78 2.05 0 2.83L4 21.41c.39.39.9.59 1.41.59.51 0 1.02-.2 1.41-.59l7.78-7.78 2.81-2.81c.8-.78.8-2.07 0-2.86zM5.41 20L4 18.59l7.72-7.72 1.47 1.35L5.41 20z\"/>\n",
              "  </svg>\n",
              "      </button>\n",
              "      \n",
              "  <style>\n",
              "    .colab-df-container {\n",
              "      display:flex;\n",
              "      flex-wrap:wrap;\n",
              "      gap: 12px;\n",
              "    }\n",
              "\n",
              "    .colab-df-convert {\n",
              "      background-color: #E8F0FE;\n",
              "      border: none;\n",
              "      border-radius: 50%;\n",
              "      cursor: pointer;\n",
              "      display: none;\n",
              "      fill: #1967D2;\n",
              "      height: 32px;\n",
              "      padding: 0 0 0 0;\n",
              "      width: 32px;\n",
              "    }\n",
              "\n",
              "    .colab-df-convert:hover {\n",
              "      background-color: #E2EBFA;\n",
              "      box-shadow: 0px 1px 2px rgba(60, 64, 67, 0.3), 0px 1px 3px 1px rgba(60, 64, 67, 0.15);\n",
              "      fill: #174EA6;\n",
              "    }\n",
              "\n",
              "    [theme=dark] .colab-df-convert {\n",
              "      background-color: #3B4455;\n",
              "      fill: #D2E3FC;\n",
              "    }\n",
              "\n",
              "    [theme=dark] .colab-df-convert:hover {\n",
              "      background-color: #434B5C;\n",
              "      box-shadow: 0px 1px 3px 1px rgba(0, 0, 0, 0.15);\n",
              "      filter: drop-shadow(0px 1px 2px rgba(0, 0, 0, 0.3));\n",
              "      fill: #FFFFFF;\n",
              "    }\n",
              "  </style>\n",
              "\n",
              "      <script>\n",
              "        const buttonEl =\n",
              "          document.querySelector('#df-e459b2a1-ec05-4350-8612-2f1c282c7204 button.colab-df-convert');\n",
              "        buttonEl.style.display =\n",
              "          google.colab.kernel.accessAllowed ? 'block' : 'none';\n",
              "\n",
              "        async function convertToInteractive(key) {\n",
              "          const element = document.querySelector('#df-e459b2a1-ec05-4350-8612-2f1c282c7204');\n",
              "          const dataTable =\n",
              "            await google.colab.kernel.invokeFunction('convertToInteractive',\n",
              "                                                     [key], {});\n",
              "          if (!dataTable) return;\n",
              "\n",
              "          const docLinkHtml = 'Like what you see? Visit the ' +\n",
              "            '<a target=\"_blank\" href=https://colab.research.google.com/notebooks/data_table.ipynb>data table notebook</a>'\n",
              "            + ' to learn more about interactive tables.';\n",
              "          element.innerHTML = '';\n",
              "          dataTable['output_type'] = 'display_data';\n",
              "          await google.colab.output.renderOutput(dataTable, element);\n",
              "          const docLink = document.createElement('div');\n",
              "          docLink.innerHTML = docLinkHtml;\n",
              "          element.appendChild(docLink);\n",
              "        }\n",
              "      </script>\n",
              "    </div>\n",
              "  </div>\n",
              "  "
            ],
            "text/plain": [
              "      sports  music  news_&_social_concern  film_tv_&_video  \\\n",
              "0          0      0                      1                1   \n",
              "1          0      0                      0                0   \n",
              "2          0      0                      1                1   \n",
              "3          0      0                      0                0   \n",
              "4          0      0                      1                0   \n",
              "...      ...    ...                    ...              ...   \n",
              "1500       0      0                      0                0   \n",
              "1501       0      0                      1                1   \n",
              "1502       0      0                      0                0   \n",
              "1503       0      0                      0                0   \n",
              "1504       0      0                      1                0   \n",
              "\n",
              "      celebrity_&_pop_culture  diaries_&_daily_life  business_&_entrepreneurs  \\\n",
              "0                           0                     0                         0   \n",
              "1                           0                     1                         0   \n",
              "2                           0                     0                         0   \n",
              "3                           1                     0                         0   \n",
              "4                           1                     0                         0   \n",
              "...                       ...                   ...                       ...   \n",
              "1500                        1                     0                         0   \n",
              "1501                        1                     0                         0   \n",
              "1502                        0                     0                         0   \n",
              "1503                        0                     0                         1   \n",
              "1504                        0                     0                         0   \n",
              "\n",
              "      other_hobbies  science_&_technology  gaming  relationships  \\\n",
              "0                 0                     0       0              0   \n",
              "1                 0                     0       0              0   \n",
              "2                 0                     0       0              0   \n",
              "3                 0                     0       0              0   \n",
              "4                 0                     0       0              0   \n",
              "...             ...                   ...     ...            ...   \n",
              "1500              0                     0       0              0   \n",
              "1501              0                     0       0              0   \n",
              "1502              0                     0       0              1   \n",
              "1503              0                     0       0              0   \n",
              "1504              0                     0       0              1   \n",
              "\n",
              "      fitness_&_health  arts_&_culture  fashion_&_style  family  \\\n",
              "0                    0               0                0       0   \n",
              "1                    0               0                0       0   \n",
              "2                    0               0                0       0   \n",
              "3                    0               0                0       0   \n",
              "4                    1               0                0       0   \n",
              "...                ...             ...              ...     ...   \n",
              "1500                 0               0                0       0   \n",
              "1501                 0               0                0       0   \n",
              "1502                 0               1                0       0   \n",
              "1503                 0               0                0       0   \n",
              "1504                 0               0                0       1   \n",
              "\n",
              "      learning_&_educational  food_&_dining  travel_&_adventure  \\\n",
              "0                          0              0                   0   \n",
              "1                          0              0                   0   \n",
              "2                          0              0                   0   \n",
              "3                          0              0                   0   \n",
              "4                          0              0                   0   \n",
              "...                      ...            ...                 ...   \n",
              "1500                       0              0                   0   \n",
              "1501                       0              0                   0   \n",
              "1502                       0              0                   0   \n",
              "1503                       1              0                   0   \n",
              "1504                       0              0                   0   \n",
              "\n",
              "      youth_&_student_life  \n",
              "0                        0  \n",
              "1                        1  \n",
              "2                        0  \n",
              "3                        0  \n",
              "4                        0  \n",
              "...                    ...  \n",
              "1500                     0  \n",
              "1501                     0  \n",
              "1502                     0  \n",
              "1503                     1  \n",
              "1504                     0  \n",
              "\n",
              "[1505 rows x 19 columns]"
            ]
          },
          "execution_count": 52,
          "metadata": {},
          "output_type": "execute_result"
        }
      ],
      "source": [
        "y"
      ]
    },
    {
      "cell_type": "code",
      "execution_count": 53,
      "metadata": {
        "id": "5kAQ-a_QAkQ9"
      },
      "outputs": [],
      "source": [
        "category_frequency = y.sum(axis=0)"
      ]
    },
    {
      "cell_type": "code",
      "execution_count": 54,
      "metadata": {
        "colab": {
          "base_uri": "https://localhost:8080/"
        },
        "id": "qXwZfV2IAnqn",
        "outputId": "fa8fd547-b8fa-4130-bf68-3e9aa2aa3a84"
      },
      "outputs": [
        {
          "data": {
            "text/plain": [
              "Index(['sports', 'music', 'news_&_social_concern', 'film_tv_&_video',\n",
              "       'celebrity_&_pop_culture'],\n",
              "      dtype='object')"
            ]
          },
          "execution_count": 54,
          "metadata": {},
          "output_type": "execute_result"
        }
      ],
      "source": [
        "category_frequency[category_frequency > 200].index"
      ]
    },
    {
      "cell_type": "code",
      "execution_count": 55,
      "metadata": {
        "id": "c-WSpkoQBoV5"
      },
      "outputs": [],
      "source": [
        "high_freq_columns = ['sports', 'music', 'news_&_social_concern', 'film_tv_&_video',\n",
        "       'celebrity_&_pop_culture']"
      ]
    },
    {
      "cell_type": "code",
      "execution_count": 56,
      "metadata": {
        "id": "CAX_FtciBw4y"
      },
      "outputs": [],
      "source": [
        "y_high_freq = y[high_freq_columns]"
      ]
    },
    {
      "cell_type": "code",
      "execution_count": 57,
      "metadata": {
        "colab": {
          "base_uri": "https://localhost:8080/",
          "height": 0
        },
        "id": "IavwKFJ7B5yh",
        "outputId": "7711e890-797f-4d66-8a03-7b2f4c3940ed"
      },
      "outputs": [
        {
          "data": {
            "text/html": [
              "\n",
              "  <div id=\"df-8b1a4aa5-e216-4b57-8596-0d0bcecacb03\">\n",
              "    <div class=\"colab-df-container\">\n",
              "      <div>\n",
              "<style scoped>\n",
              "    .dataframe tbody tr th:only-of-type {\n",
              "        vertical-align: middle;\n",
              "    }\n",
              "\n",
              "    .dataframe tbody tr th {\n",
              "        vertical-align: top;\n",
              "    }\n",
              "\n",
              "    .dataframe thead th {\n",
              "        text-align: right;\n",
              "    }\n",
              "</style>\n",
              "<table border=\"1\" class=\"dataframe\">\n",
              "  <thead>\n",
              "    <tr style=\"text-align: right;\">\n",
              "      <th></th>\n",
              "      <th>sports</th>\n",
              "      <th>music</th>\n",
              "      <th>news_&amp;_social_concern</th>\n",
              "      <th>film_tv_&amp;_video</th>\n",
              "      <th>celebrity_&amp;_pop_culture</th>\n",
              "    </tr>\n",
              "  </thead>\n",
              "  <tbody>\n",
              "    <tr>\n",
              "      <th>0</th>\n",
              "      <td>0</td>\n",
              "      <td>0</td>\n",
              "      <td>1</td>\n",
              "      <td>1</td>\n",
              "      <td>0</td>\n",
              "    </tr>\n",
              "    <tr>\n",
              "      <th>1</th>\n",
              "      <td>0</td>\n",
              "      <td>0</td>\n",
              "      <td>0</td>\n",
              "      <td>0</td>\n",
              "      <td>0</td>\n",
              "    </tr>\n",
              "    <tr>\n",
              "      <th>2</th>\n",
              "      <td>0</td>\n",
              "      <td>0</td>\n",
              "      <td>1</td>\n",
              "      <td>1</td>\n",
              "      <td>0</td>\n",
              "    </tr>\n",
              "    <tr>\n",
              "      <th>3</th>\n",
              "      <td>0</td>\n",
              "      <td>0</td>\n",
              "      <td>0</td>\n",
              "      <td>0</td>\n",
              "      <td>1</td>\n",
              "    </tr>\n",
              "    <tr>\n",
              "      <th>4</th>\n",
              "      <td>0</td>\n",
              "      <td>0</td>\n",
              "      <td>1</td>\n",
              "      <td>0</td>\n",
              "      <td>1</td>\n",
              "    </tr>\n",
              "    <tr>\n",
              "      <th>...</th>\n",
              "      <td>...</td>\n",
              "      <td>...</td>\n",
              "      <td>...</td>\n",
              "      <td>...</td>\n",
              "      <td>...</td>\n",
              "    </tr>\n",
              "    <tr>\n",
              "      <th>1500</th>\n",
              "      <td>0</td>\n",
              "      <td>0</td>\n",
              "      <td>0</td>\n",
              "      <td>0</td>\n",
              "      <td>1</td>\n",
              "    </tr>\n",
              "    <tr>\n",
              "      <th>1501</th>\n",
              "      <td>0</td>\n",
              "      <td>0</td>\n",
              "      <td>1</td>\n",
              "      <td>1</td>\n",
              "      <td>1</td>\n",
              "    </tr>\n",
              "    <tr>\n",
              "      <th>1502</th>\n",
              "      <td>0</td>\n",
              "      <td>0</td>\n",
              "      <td>0</td>\n",
              "      <td>0</td>\n",
              "      <td>0</td>\n",
              "    </tr>\n",
              "    <tr>\n",
              "      <th>1503</th>\n",
              "      <td>0</td>\n",
              "      <td>0</td>\n",
              "      <td>0</td>\n",
              "      <td>0</td>\n",
              "      <td>0</td>\n",
              "    </tr>\n",
              "    <tr>\n",
              "      <th>1504</th>\n",
              "      <td>0</td>\n",
              "      <td>0</td>\n",
              "      <td>1</td>\n",
              "      <td>0</td>\n",
              "      <td>0</td>\n",
              "    </tr>\n",
              "  </tbody>\n",
              "</table>\n",
              "<p>1505 rows × 5 columns</p>\n",
              "</div>\n",
              "      <button class=\"colab-df-convert\" onclick=\"convertToInteractive('df-8b1a4aa5-e216-4b57-8596-0d0bcecacb03')\"\n",
              "              title=\"Convert this dataframe to an interactive table.\"\n",
              "              style=\"display:none;\">\n",
              "        \n",
              "  <svg xmlns=\"http://www.w3.org/2000/svg\" height=\"24px\"viewBox=\"0 0 24 24\"\n",
              "       width=\"24px\">\n",
              "    <path d=\"M0 0h24v24H0V0z\" fill=\"none\"/>\n",
              "    <path d=\"M18.56 5.44l.94 2.06.94-2.06 2.06-.94-2.06-.94-.94-2.06-.94 2.06-2.06.94zm-11 1L8.5 8.5l.94-2.06 2.06-.94-2.06-.94L8.5 2.5l-.94 2.06-2.06.94zm10 10l.94 2.06.94-2.06 2.06-.94-2.06-.94-.94-2.06-.94 2.06-2.06.94z\"/><path d=\"M17.41 7.96l-1.37-1.37c-.4-.4-.92-.59-1.43-.59-.52 0-1.04.2-1.43.59L10.3 9.45l-7.72 7.72c-.78.78-.78 2.05 0 2.83L4 21.41c.39.39.9.59 1.41.59.51 0 1.02-.2 1.41-.59l7.78-7.78 2.81-2.81c.8-.78.8-2.07 0-2.86zM5.41 20L4 18.59l7.72-7.72 1.47 1.35L5.41 20z\"/>\n",
              "  </svg>\n",
              "      </button>\n",
              "      \n",
              "  <style>\n",
              "    .colab-df-container {\n",
              "      display:flex;\n",
              "      flex-wrap:wrap;\n",
              "      gap: 12px;\n",
              "    }\n",
              "\n",
              "    .colab-df-convert {\n",
              "      background-color: #E8F0FE;\n",
              "      border: none;\n",
              "      border-radius: 50%;\n",
              "      cursor: pointer;\n",
              "      display: none;\n",
              "      fill: #1967D2;\n",
              "      height: 32px;\n",
              "      padding: 0 0 0 0;\n",
              "      width: 32px;\n",
              "    }\n",
              "\n",
              "    .colab-df-convert:hover {\n",
              "      background-color: #E2EBFA;\n",
              "      box-shadow: 0px 1px 2px rgba(60, 64, 67, 0.3), 0px 1px 3px 1px rgba(60, 64, 67, 0.15);\n",
              "      fill: #174EA6;\n",
              "    }\n",
              "\n",
              "    [theme=dark] .colab-df-convert {\n",
              "      background-color: #3B4455;\n",
              "      fill: #D2E3FC;\n",
              "    }\n",
              "\n",
              "    [theme=dark] .colab-df-convert:hover {\n",
              "      background-color: #434B5C;\n",
              "      box-shadow: 0px 1px 3px 1px rgba(0, 0, 0, 0.15);\n",
              "      filter: drop-shadow(0px 1px 2px rgba(0, 0, 0, 0.3));\n",
              "      fill: #FFFFFF;\n",
              "    }\n",
              "  </style>\n",
              "\n",
              "      <script>\n",
              "        const buttonEl =\n",
              "          document.querySelector('#df-8b1a4aa5-e216-4b57-8596-0d0bcecacb03 button.colab-df-convert');\n",
              "        buttonEl.style.display =\n",
              "          google.colab.kernel.accessAllowed ? 'block' : 'none';\n",
              "\n",
              "        async function convertToInteractive(key) {\n",
              "          const element = document.querySelector('#df-8b1a4aa5-e216-4b57-8596-0d0bcecacb03');\n",
              "          const dataTable =\n",
              "            await google.colab.kernel.invokeFunction('convertToInteractive',\n",
              "                                                     [key], {});\n",
              "          if (!dataTable) return;\n",
              "\n",
              "          const docLinkHtml = 'Like what you see? Visit the ' +\n",
              "            '<a target=\"_blank\" href=https://colab.research.google.com/notebooks/data_table.ipynb>data table notebook</a>'\n",
              "            + ' to learn more about interactive tables.';\n",
              "          element.innerHTML = '';\n",
              "          dataTable['output_type'] = 'display_data';\n",
              "          await google.colab.output.renderOutput(dataTable, element);\n",
              "          const docLink = document.createElement('div');\n",
              "          docLink.innerHTML = docLinkHtml;\n",
              "          element.appendChild(docLink);\n",
              "        }\n",
              "      </script>\n",
              "    </div>\n",
              "  </div>\n",
              "  "
            ],
            "text/plain": [
              "      sports  music  news_&_social_concern  film_tv_&_video  \\\n",
              "0          0      0                      1                1   \n",
              "1          0      0                      0                0   \n",
              "2          0      0                      1                1   \n",
              "3          0      0                      0                0   \n",
              "4          0      0                      1                0   \n",
              "...      ...    ...                    ...              ...   \n",
              "1500       0      0                      0                0   \n",
              "1501       0      0                      1                1   \n",
              "1502       0      0                      0                0   \n",
              "1503       0      0                      0                0   \n",
              "1504       0      0                      1                0   \n",
              "\n",
              "      celebrity_&_pop_culture  \n",
              "0                           0  \n",
              "1                           0  \n",
              "2                           0  \n",
              "3                           1  \n",
              "4                           1  \n",
              "...                       ...  \n",
              "1500                        1  \n",
              "1501                        1  \n",
              "1502                        0  \n",
              "1503                        0  \n",
              "1504                        0  \n",
              "\n",
              "[1505 rows x 5 columns]"
            ]
          },
          "execution_count": 57,
          "metadata": {},
          "output_type": "execute_result"
        }
      ],
      "source": [
        "y_high_freq"
      ]
    },
    {
      "cell_type": "markdown",
      "metadata": {
        "id": "K45hi7t5tb6a"
      },
      "source": [
        "### Splittng the dataset"
      ]
    },
    {
      "cell_type": "code",
      "execution_count": 58,
      "metadata": {
        "colab": {
          "base_uri": "https://localhost:8080/"
        },
        "id": "1Ok1PbebMIiU",
        "outputId": "84d45bce-80d8-4dbd-fb81-31137c15fcf6"
      },
      "outputs": [
        {
          "name": "stdout",
          "output_type": "stream",
          "text": [
            "Looking in indexes: https://pypi.org/simple, https://us-python.pkg.dev/colab-wheels/public/simple/\n",
            "Requirement already satisfied: scikit-multilearn in /usr/local/lib/python3.9/dist-packages (0.2.0)\n"
          ]
        }
      ],
      "source": [
        "pip install scikit-multilearn"
      ]
    },
    {
      "cell_type": "code",
      "execution_count": 59,
      "metadata": {
        "id": "_dUtZl4guQ6T"
      },
      "outputs": [],
      "source": [
        "from sklearn.model_selection import train_test_split\n",
        "from skmultilearn.model_selection import iterative_train_test_split"
      ]
    },
    {
      "cell_type": "code",
      "execution_count": 60,
      "metadata": {
        "colab": {
          "base_uri": "https://localhost:8080/"
        },
        "id": "lC6l_hzeOvxQ",
        "outputId": "bffdd656-1d08-4e79-de87-28197271559b"
      },
      "outputs": [
        {
          "data": {
            "text/plain": [
              "(1505, 1)"
            ]
          },
          "execution_count": 60,
          "metadata": {},
          "output_type": "execute_result"
        }
      ],
      "source": [
        "X_reshaped= X.values.reshape(-1, 1)\n",
        "X_reshaped.shape"
      ]
    },
    {
      "cell_type": "code",
      "execution_count": 61,
      "metadata": {
        "id": "frPchP9cMHD8"
      },
      "outputs": [],
      "source": [
        "X_train, y_train, X_test, y_test = iterative_train_test_split(X_reshaped, y.values, test_size = 0.2)"
      ]
    },
    {
      "cell_type": "code",
      "execution_count": null,
      "metadata": {
        "colab": {
          "base_uri": "https://localhost:8080/"
        },
        "id": "oV86uH_6PsqD",
        "outputId": "c5302de8-ab16-460b-823a-4ad962f972bf"
      },
      "outputs": [],
      "source": [
        "y_fractions = y_test.sum(axis=0) / y.sum(axis=0)\n",
        "print(y_fractions)"
      ]
    },
    {
      "cell_type": "code",
      "execution_count": 63,
      "metadata": {
        "id": "blw18kF6P2_R"
      },
      "outputs": [],
      "source": [
        "y_test_df = pd.DataFrame(y_test, columns = y.columns)"
      ]
    },
    {
      "cell_type": "code",
      "execution_count": 64,
      "metadata": {
        "id": "oJb2u_LjRCsV"
      },
      "outputs": [],
      "source": [
        "y_train_df = pd.DataFrame(y_train, columns = y.columns)"
      ]
    },
    {
      "cell_type": "code",
      "execution_count": null,
      "metadata": {
        "colab": {
          "base_uri": "https://localhost:8080/",
          "height": 0
        },
        "id": "qh43QR4QRF6I",
        "outputId": "a6f7e3ef-25c7-4e58-90ba-89d409d0d824"
      },
      "outputs": [],
      "source": [
        "y_train_df[y_train_df[\"travel_&_adventure\"] == 1]#.sample(n=5)"
      ]
    },
    {
      "cell_type": "code",
      "execution_count": null,
      "metadata": {
        "colab": {
          "base_uri": "https://localhost:8080/"
        },
        "id": "LPKqo7-pQyvh",
        "outputId": "c88138d5-0a99-4234-b4e2-e474748cef81"
      },
      "outputs": [],
      "source": [
        "y_test_df[y_test_df[\"travel_&_adventure\"] == 1].sum(axis = 0)"
      ]
    },
    {
      "cell_type": "code",
      "execution_count": null,
      "metadata": {
        "colab": {
          "base_uri": "https://localhost:8080/"
        },
        "id": "_eYac-NSSgZk",
        "outputId": "40e825e8-0474-450b-fc06-d944d6632d16"
      },
      "outputs": [],
      "source": [
        "y_train_df.sum(axis=0)"
      ]
    },
    {
      "cell_type": "code",
      "execution_count": 68,
      "metadata": {
        "id": "EDoMi5qPSyH3"
      },
      "outputs": [],
      "source": [
        "subset = y_train_df[y_train_df[\"travel_&_adventure\"] == 1].sample(frac=0.15, random_state=42)"
      ]
    },
    {
      "cell_type": "code",
      "execution_count": 69,
      "metadata": {
        "colab": {
          "base_uri": "https://localhost:8080/",
          "height": 0
        },
        "id": "rYCwmIo1TSma",
        "outputId": "c19a8565-c365-4400-9a87-e1a0f5463670"
      },
      "outputs": [
        {
          "data": {
            "text/html": [
              "\n",
              "  <div id=\"df-2c704bef-6202-43a4-9096-b051040ad262\">\n",
              "    <div class=\"colab-df-container\">\n",
              "      <div>\n",
              "<style scoped>\n",
              "    .dataframe tbody tr th:only-of-type {\n",
              "        vertical-align: middle;\n",
              "    }\n",
              "\n",
              "    .dataframe tbody tr th {\n",
              "        vertical-align: top;\n",
              "    }\n",
              "\n",
              "    .dataframe thead th {\n",
              "        text-align: right;\n",
              "    }\n",
              "</style>\n",
              "<table border=\"1\" class=\"dataframe\">\n",
              "  <thead>\n",
              "    <tr style=\"text-align: right;\">\n",
              "      <th></th>\n",
              "      <th>sports</th>\n",
              "      <th>music</th>\n",
              "      <th>news_&amp;_social_concern</th>\n",
              "      <th>film_tv_&amp;_video</th>\n",
              "      <th>celebrity_&amp;_pop_culture</th>\n",
              "      <th>diaries_&amp;_daily_life</th>\n",
              "      <th>business_&amp;_entrepreneurs</th>\n",
              "      <th>other_hobbies</th>\n",
              "      <th>science_&amp;_technology</th>\n",
              "      <th>gaming</th>\n",
              "      <th>relationships</th>\n",
              "      <th>fitness_&amp;_health</th>\n",
              "      <th>arts_&amp;_culture</th>\n",
              "      <th>fashion_&amp;_style</th>\n",
              "      <th>family</th>\n",
              "      <th>learning_&amp;_educational</th>\n",
              "      <th>food_&amp;_dining</th>\n",
              "      <th>travel_&amp;_adventure</th>\n",
              "      <th>youth_&amp;_student_life</th>\n",
              "    </tr>\n",
              "  </thead>\n",
              "  <tbody>\n",
              "    <tr>\n",
              "      <th>1198</th>\n",
              "      <td>0</td>\n",
              "      <td>0</td>\n",
              "      <td>0</td>\n",
              "      <td>0</td>\n",
              "      <td>0</td>\n",
              "      <td>0</td>\n",
              "      <td>0</td>\n",
              "      <td>0</td>\n",
              "      <td>0</td>\n",
              "      <td>0</td>\n",
              "      <td>0</td>\n",
              "      <td>0</td>\n",
              "      <td>1</td>\n",
              "      <td>0</td>\n",
              "      <td>0</td>\n",
              "      <td>0</td>\n",
              "      <td>1</td>\n",
              "      <td>1</td>\n",
              "      <td>0</td>\n",
              "    </tr>\n",
              "    <tr>\n",
              "      <th>1019</th>\n",
              "      <td>0</td>\n",
              "      <td>0</td>\n",
              "      <td>0</td>\n",
              "      <td>0</td>\n",
              "      <td>0</td>\n",
              "      <td>1</td>\n",
              "      <td>0</td>\n",
              "      <td>1</td>\n",
              "      <td>0</td>\n",
              "      <td>0</td>\n",
              "      <td>0</td>\n",
              "      <td>0</td>\n",
              "      <td>0</td>\n",
              "      <td>0</td>\n",
              "      <td>0</td>\n",
              "      <td>0</td>\n",
              "      <td>0</td>\n",
              "      <td>1</td>\n",
              "      <td>0</td>\n",
              "    </tr>\n",
              "  </tbody>\n",
              "</table>\n",
              "</div>\n",
              "      <button class=\"colab-df-convert\" onclick=\"convertToInteractive('df-2c704bef-6202-43a4-9096-b051040ad262')\"\n",
              "              title=\"Convert this dataframe to an interactive table.\"\n",
              "              style=\"display:none;\">\n",
              "        \n",
              "  <svg xmlns=\"http://www.w3.org/2000/svg\" height=\"24px\"viewBox=\"0 0 24 24\"\n",
              "       width=\"24px\">\n",
              "    <path d=\"M0 0h24v24H0V0z\" fill=\"none\"/>\n",
              "    <path d=\"M18.56 5.44l.94 2.06.94-2.06 2.06-.94-2.06-.94-.94-2.06-.94 2.06-2.06.94zm-11 1L8.5 8.5l.94-2.06 2.06-.94-2.06-.94L8.5 2.5l-.94 2.06-2.06.94zm10 10l.94 2.06.94-2.06 2.06-.94-2.06-.94-.94-2.06-.94 2.06-2.06.94z\"/><path d=\"M17.41 7.96l-1.37-1.37c-.4-.4-.92-.59-1.43-.59-.52 0-1.04.2-1.43.59L10.3 9.45l-7.72 7.72c-.78.78-.78 2.05 0 2.83L4 21.41c.39.39.9.59 1.41.59.51 0 1.02-.2 1.41-.59l7.78-7.78 2.81-2.81c.8-.78.8-2.07 0-2.86zM5.41 20L4 18.59l7.72-7.72 1.47 1.35L5.41 20z\"/>\n",
              "  </svg>\n",
              "      </button>\n",
              "      \n",
              "  <style>\n",
              "    .colab-df-container {\n",
              "      display:flex;\n",
              "      flex-wrap:wrap;\n",
              "      gap: 12px;\n",
              "    }\n",
              "\n",
              "    .colab-df-convert {\n",
              "      background-color: #E8F0FE;\n",
              "      border: none;\n",
              "      border-radius: 50%;\n",
              "      cursor: pointer;\n",
              "      display: none;\n",
              "      fill: #1967D2;\n",
              "      height: 32px;\n",
              "      padding: 0 0 0 0;\n",
              "      width: 32px;\n",
              "    }\n",
              "\n",
              "    .colab-df-convert:hover {\n",
              "      background-color: #E2EBFA;\n",
              "      box-shadow: 0px 1px 2px rgba(60, 64, 67, 0.3), 0px 1px 3px 1px rgba(60, 64, 67, 0.15);\n",
              "      fill: #174EA6;\n",
              "    }\n",
              "\n",
              "    [theme=dark] .colab-df-convert {\n",
              "      background-color: #3B4455;\n",
              "      fill: #D2E3FC;\n",
              "    }\n",
              "\n",
              "    [theme=dark] .colab-df-convert:hover {\n",
              "      background-color: #434B5C;\n",
              "      box-shadow: 0px 1px 3px 1px rgba(0, 0, 0, 0.15);\n",
              "      filter: drop-shadow(0px 1px 2px rgba(0, 0, 0, 0.3));\n",
              "      fill: #FFFFFF;\n",
              "    }\n",
              "  </style>\n",
              "\n",
              "      <script>\n",
              "        const buttonEl =\n",
              "          document.querySelector('#df-2c704bef-6202-43a4-9096-b051040ad262 button.colab-df-convert');\n",
              "        buttonEl.style.display =\n",
              "          google.colab.kernel.accessAllowed ? 'block' : 'none';\n",
              "\n",
              "        async function convertToInteractive(key) {\n",
              "          const element = document.querySelector('#df-2c704bef-6202-43a4-9096-b051040ad262');\n",
              "          const dataTable =\n",
              "            await google.colab.kernel.invokeFunction('convertToInteractive',\n",
              "                                                     [key], {});\n",
              "          if (!dataTable) return;\n",
              "\n",
              "          const docLinkHtml = 'Like what you see? Visit the ' +\n",
              "            '<a target=\"_blank\" href=https://colab.research.google.com/notebooks/data_table.ipynb>data table notebook</a>'\n",
              "            + ' to learn more about interactive tables.';\n",
              "          element.innerHTML = '';\n",
              "          dataTable['output_type'] = 'display_data';\n",
              "          await google.colab.output.renderOutput(dataTable, element);\n",
              "          const docLink = document.createElement('div');\n",
              "          docLink.innerHTML = docLinkHtml;\n",
              "          element.appendChild(docLink);\n",
              "        }\n",
              "      </script>\n",
              "    </div>\n",
              "  </div>\n",
              "  "
            ],
            "text/plain": [
              "      sports  music  news_&_social_concern  film_tv_&_video  \\\n",
              "1198       0      0                      0                0   \n",
              "1019       0      0                      0                0   \n",
              "\n",
              "      celebrity_&_pop_culture  diaries_&_daily_life  business_&_entrepreneurs  \\\n",
              "1198                        0                     0                         0   \n",
              "1019                        0                     1                         0   \n",
              "\n",
              "      other_hobbies  science_&_technology  gaming  relationships  \\\n",
              "1198              0                     0       0              0   \n",
              "1019              1                     0       0              0   \n",
              "\n",
              "      fitness_&_health  arts_&_culture  fashion_&_style  family  \\\n",
              "1198                 0               1                0       0   \n",
              "1019                 0               0                0       0   \n",
              "\n",
              "      learning_&_educational  food_&_dining  travel_&_adventure  \\\n",
              "1198                       0              1                   1   \n",
              "1019                       0              0                   1   \n",
              "\n",
              "      youth_&_student_life  \n",
              "1198                     0  \n",
              "1019                     0  "
            ]
          },
          "execution_count": 69,
          "metadata": {},
          "output_type": "execute_result"
        }
      ],
      "source": [
        "subset"
      ]
    },
    {
      "cell_type": "code",
      "execution_count": 70,
      "metadata": {
        "id": "sTfLP5VNUAIC"
      },
      "outputs": [],
      "source": [
        "y_test_df = pd.concat([y_test_df, subset], ignore_index=True)"
      ]
    },
    {
      "cell_type": "code",
      "execution_count": 71,
      "metadata": {
        "id": "zjZx9bNZUP6h"
      },
      "outputs": [],
      "source": [
        "y_train_df = y_train_df.drop(subset.index)"
      ]
    },
    {
      "cell_type": "code",
      "execution_count": 72,
      "metadata": {
        "id": "dnRa3HZki3dy"
      },
      "outputs": [],
      "source": [
        "X_train_df = pd.DataFrame(X_train)\n",
        "X_test_df = pd.DataFrame(X_test)"
      ]
    },
    {
      "cell_type": "code",
      "execution_count": 73,
      "metadata": {
        "colab": {
          "base_uri": "https://localhost:8080/"
        },
        "id": "jiMY1oVOkhJn",
        "outputId": "3ec66f87-1e55-4059-92ad-12d311edbe12"
      },
      "outputs": [
        {
          "data": {
            "text/plain": [
              "Int64Index([1198, 1019], dtype='int64')"
            ]
          },
          "execution_count": 73,
          "metadata": {},
          "output_type": "execute_result"
        }
      ],
      "source": [
        "subset.index"
      ]
    },
    {
      "cell_type": "code",
      "execution_count": 74,
      "metadata": {
        "colab": {
          "base_uri": "https://localhost:8080/",
          "height": 0
        },
        "id": "hvnqYvOgjfXl",
        "outputId": "995376a7-634e-4057-e8e3-5ee5cf869415"
      },
      "outputs": [
        {
          "data": {
            "text/html": [
              "\n",
              "  <div id=\"df-275e9cb1-184a-4101-9fc3-14cfaacfa8c3\">\n",
              "    <div class=\"colab-df-container\">\n",
              "      <div>\n",
              "<style scoped>\n",
              "    .dataframe tbody tr th:only-of-type {\n",
              "        vertical-align: middle;\n",
              "    }\n",
              "\n",
              "    .dataframe tbody tr th {\n",
              "        vertical-align: top;\n",
              "    }\n",
              "\n",
              "    .dataframe thead th {\n",
              "        text-align: right;\n",
              "    }\n",
              "</style>\n",
              "<table border=\"1\" class=\"dataframe\">\n",
              "  <thead>\n",
              "    <tr style=\"text-align: right;\">\n",
              "      <th></th>\n",
              "      <th>0</th>\n",
              "    </tr>\n",
              "  </thead>\n",
              "  <tbody>\n",
              "    <tr>\n",
              "      <th>1198</th>\n",
              "      <td>tad embarrassed say hadnt yet s city center wo...</td>\n",
              "    </tr>\n",
              "    <tr>\n",
              "      <th>1019</th>\n",
              "      <td>lately every time step foot flight wonder fly ...</td>\n",
              "    </tr>\n",
              "  </tbody>\n",
              "</table>\n",
              "</div>\n",
              "      <button class=\"colab-df-convert\" onclick=\"convertToInteractive('df-275e9cb1-184a-4101-9fc3-14cfaacfa8c3')\"\n",
              "              title=\"Convert this dataframe to an interactive table.\"\n",
              "              style=\"display:none;\">\n",
              "        \n",
              "  <svg xmlns=\"http://www.w3.org/2000/svg\" height=\"24px\"viewBox=\"0 0 24 24\"\n",
              "       width=\"24px\">\n",
              "    <path d=\"M0 0h24v24H0V0z\" fill=\"none\"/>\n",
              "    <path d=\"M18.56 5.44l.94 2.06.94-2.06 2.06-.94-2.06-.94-.94-2.06-.94 2.06-2.06.94zm-11 1L8.5 8.5l.94-2.06 2.06-.94-2.06-.94L8.5 2.5l-.94 2.06-2.06.94zm10 10l.94 2.06.94-2.06 2.06-.94-2.06-.94-.94-2.06-.94 2.06-2.06.94z\"/><path d=\"M17.41 7.96l-1.37-1.37c-.4-.4-.92-.59-1.43-.59-.52 0-1.04.2-1.43.59L10.3 9.45l-7.72 7.72c-.78.78-.78 2.05 0 2.83L4 21.41c.39.39.9.59 1.41.59.51 0 1.02-.2 1.41-.59l7.78-7.78 2.81-2.81c.8-.78.8-2.07 0-2.86zM5.41 20L4 18.59l7.72-7.72 1.47 1.35L5.41 20z\"/>\n",
              "  </svg>\n",
              "      </button>\n",
              "      \n",
              "  <style>\n",
              "    .colab-df-container {\n",
              "      display:flex;\n",
              "      flex-wrap:wrap;\n",
              "      gap: 12px;\n",
              "    }\n",
              "\n",
              "    .colab-df-convert {\n",
              "      background-color: #E8F0FE;\n",
              "      border: none;\n",
              "      border-radius: 50%;\n",
              "      cursor: pointer;\n",
              "      display: none;\n",
              "      fill: #1967D2;\n",
              "      height: 32px;\n",
              "      padding: 0 0 0 0;\n",
              "      width: 32px;\n",
              "    }\n",
              "\n",
              "    .colab-df-convert:hover {\n",
              "      background-color: #E2EBFA;\n",
              "      box-shadow: 0px 1px 2px rgba(60, 64, 67, 0.3), 0px 1px 3px 1px rgba(60, 64, 67, 0.15);\n",
              "      fill: #174EA6;\n",
              "    }\n",
              "\n",
              "    [theme=dark] .colab-df-convert {\n",
              "      background-color: #3B4455;\n",
              "      fill: #D2E3FC;\n",
              "    }\n",
              "\n",
              "    [theme=dark] .colab-df-convert:hover {\n",
              "      background-color: #434B5C;\n",
              "      box-shadow: 0px 1px 3px 1px rgba(0, 0, 0, 0.15);\n",
              "      filter: drop-shadow(0px 1px 2px rgba(0, 0, 0, 0.3));\n",
              "      fill: #FFFFFF;\n",
              "    }\n",
              "  </style>\n",
              "\n",
              "      <script>\n",
              "        const buttonEl =\n",
              "          document.querySelector('#df-275e9cb1-184a-4101-9fc3-14cfaacfa8c3 button.colab-df-convert');\n",
              "        buttonEl.style.display =\n",
              "          google.colab.kernel.accessAllowed ? 'block' : 'none';\n",
              "\n",
              "        async function convertToInteractive(key) {\n",
              "          const element = document.querySelector('#df-275e9cb1-184a-4101-9fc3-14cfaacfa8c3');\n",
              "          const dataTable =\n",
              "            await google.colab.kernel.invokeFunction('convertToInteractive',\n",
              "                                                     [key], {});\n",
              "          if (!dataTable) return;\n",
              "\n",
              "          const docLinkHtml = 'Like what you see? Visit the ' +\n",
              "            '<a target=\"_blank\" href=https://colab.research.google.com/notebooks/data_table.ipynb>data table notebook</a>'\n",
              "            + ' to learn more about interactive tables.';\n",
              "          element.innerHTML = '';\n",
              "          dataTable['output_type'] = 'display_data';\n",
              "          await google.colab.output.renderOutput(dataTable, element);\n",
              "          const docLink = document.createElement('div');\n",
              "          docLink.innerHTML = docLinkHtml;\n",
              "          element.appendChild(docLink);\n",
              "        }\n",
              "      </script>\n",
              "    </div>\n",
              "  </div>\n",
              "  "
            ],
            "text/plain": [
              "                                                      0\n",
              "1198  tad embarrassed say hadnt yet s city center wo...\n",
              "1019  lately every time step foot flight wonder fly ..."
            ]
          },
          "execution_count": 74,
          "metadata": {},
          "output_type": "execute_result"
        }
      ],
      "source": [
        "X_train_df.iloc[list(subset.index)]"
      ]
    },
    {
      "cell_type": "code",
      "execution_count": 75,
      "metadata": {
        "id": "tE8xhPJKk_l0"
      },
      "outputs": [],
      "source": [
        "X_test_df = pd.concat([X_test_df, X_train_df.iloc[list(subset.index)]], ignore_index = True)"
      ]
    },
    {
      "cell_type": "code",
      "execution_count": 76,
      "metadata": {
        "id": "9rVcfAlqlNCl"
      },
      "outputs": [],
      "source": [
        "X_train_df = X_train_df.drop(subset.index)"
      ]
    },
    {
      "cell_type": "code",
      "execution_count": 77,
      "metadata": {
        "colab": {
          "base_uri": "https://localhost:8080/"
        },
        "id": "gHO9UYxMlWAy",
        "outputId": "ffb28cec-4fc1-4ef9-e520-0b66047a81b4"
      },
      "outputs": [
        {
          "data": {
            "text/plain": [
              "((1206, 1), (299, 1), (1206, 19), (299, 19))"
            ]
          },
          "execution_count": 77,
          "metadata": {},
          "output_type": "execute_result"
        }
      ],
      "source": [
        "X_train_df.shape, X_test_df.shape, y_train_df.shape, y_test_df.shape"
      ]
    },
    {
      "cell_type": "code",
      "execution_count": 78,
      "metadata": {
        "id": "ovcqDATCUViS"
      },
      "outputs": [],
      "source": [
        "y_train = y_train_df\n",
        "y_test = y_test_df\n",
        "X_train = X_train_df.values\n",
        "X_test = X_test_df.values"
      ]
    },
    {
      "cell_type": "code",
      "execution_count": null,
      "metadata": {
        "colab": {
          "base_uri": "https://localhost:8080/"
        },
        "id": "T0iGyPX7UdR_",
        "outputId": "88342158-4503-46f5-e891-f78d11db0f23"
      },
      "outputs": [],
      "source": [
        "y_fractions = y_test.sum(axis=0) / y.sum(axis=0)\n",
        "print(y_fractions)"
      ]
    },
    {
      "cell_type": "code",
      "execution_count": 80,
      "metadata": {
        "colab": {
          "base_uri": "https://localhost:8080/"
        },
        "id": "vnNd-jJclx1s",
        "outputId": "a28c3d53-0e9f-4aef-f6b3-97956ab1981c"
      },
      "outputs": [
        {
          "data": {
            "text/plain": [
              "(11, 3)"
            ]
          },
          "execution_count": 80,
          "metadata": {},
          "output_type": "execute_result"
        }
      ],
      "source": [
        "y_train_df['travel_&_adventure'].sum(axis=0), y_test_df['travel_&_adventure'].sum(axis=0)"
      ]
    },
    {
      "cell_type": "markdown",
      "metadata": {
        "id": "H1Ev2_u7umED"
      },
      "source": [
        "### Tokenization"
      ]
    },
    {
      "cell_type": "code",
      "execution_count": null,
      "metadata": {
        "id": "Mvk_MoSXut_n"
      },
      "outputs": [],
      "source": [
        "num_words = len(counter)"
      ]
    },
    {
      "cell_type": "code",
      "execution_count": null,
      "metadata": {
        "id": "SuJ4KKrku4sN"
      },
      "outputs": [],
      "source": [
        "from tensorflow.keras.preprocessing.text import Tokenizer\n",
        "\n",
        "tokenizer = Tokenizer(num_words=num_words)\n",
        "tokenizer.fit_on_texts(X_train.flatten().tolist()) # fit only to training"
      ]
    },
    {
      "cell_type": "code",
      "execution_count": null,
      "metadata": {
        "id": "vPu6tPgYvET3"
      },
      "outputs": [],
      "source": [
        "tokenizer.word_index"
      ]
    },
    {
      "cell_type": "code",
      "execution_count": null,
      "metadata": {
        "id": "4RZilaaVvOJI"
      },
      "outputs": [],
      "source": [
        "X_train_tokens = tokenizer.texts_to_sequences(X_train.flatten().tolist())\n",
        "X_test_tokens = tokenizer.texts_to_sequences(X_test.flatten().tolist())"
      ]
    },
    {
      "cell_type": "code",
      "execution_count": null,
      "metadata": {
        "id": "CAWS1cpGauWh"
      },
      "outputs": [],
      "source": [
        "word_lenghts = dict()\n",
        "\n",
        "for text in X:\n",
        "  if len(text) not in word_lenghts.keys():\n",
        "    word_lenghts[str(len(text))] = 1\n",
        "  else:\n",
        "    word_lenghts[str(len(text))] += 1"
      ]
    },
    {
      "cell_type": "code",
      "execution_count": null,
      "metadata": {
        "id": "LANOPUvcbl0g"
      },
      "outputs": [],
      "source": [
        "lengths = list(map(lambda x: int(x),list(word_lenghts.keys()) ))     "
      ]
    },
    {
      "cell_type": "code",
      "execution_count": null,
      "metadata": {
        "id": "QnBKpAABB9Nh"
      },
      "outputs": [],
      "source": [
        "maximum_word_length = max(lengths)"
      ]
    },
    {
      "cell_type": "code",
      "execution_count": null,
      "metadata": {
        "id": "eS3MMq88wC2D"
      },
      "outputs": [],
      "source": [
        "from tensorflow.keras.preprocessing.sequence import pad_sequences\n",
        "\n",
        "input_vector_length = maximum_word_length\n",
        "\n",
        "X_train_padded = pad_sequences(X_train_tokens, maxlen=input_vector_length, padding=\"post\", truncating=\"post\")\n",
        "X_test_padded = pad_sequences(X_test_tokens, maxlen=input_vector_length, padding=\"post\", truncating=\"post\")"
      ]
    },
    {
      "cell_type": "code",
      "execution_count": null,
      "metadata": {
        "colab": {
          "base_uri": "https://localhost:8080/"
        },
        "id": "wC5cdRv-wZ0c",
        "outputId": "5275dbe9-cb9b-4987-9671-7859dbf0f7bd"
      },
      "outputs": [
        {
          "data": {
            "text/plain": [
              "((1206, 233), (299, 233))"
            ]
          },
          "execution_count": 90,
          "metadata": {},
          "output_type": "execute_result"
        }
      ],
      "source": [
        "X_train_padded.shape, X_test_padded.shape"
      ]
    },
    {
      "cell_type": "markdown",
      "metadata": {
        "id": "R_Trxa1Swx8F"
      },
      "source": [
        "### Building a base model"
      ]
    },
    {
      "cell_type": "code",
      "execution_count": null,
      "metadata": {
        "id": "6xcuS5O-w10O"
      },
      "outputs": [],
      "source": [
        "from tensorflow.keras.models import Sequential\n",
        "from tensorflow.keras.layers import Dense, LSTM, Embedding, SimpleRNN"
      ]
    },
    {
      "cell_type": "markdown",
      "metadata": {
        "id": "r2aMhOoyIsmA"
      },
      "source": [
        "Two Models for testing"
      ]
    },
    {
      "cell_type": "code",
      "execution_count": null,
      "metadata": {
        "colab": {
          "base_uri": "https://localhost:8080/"
        },
        "id": "DDnRXPDkx3ks",
        "outputId": "19db363c-4a7e-470b-ecb6-2b8241ab1b39"
      },
      "outputs": [
        {
          "name": "stderr",
          "output_type": "stream",
          "text": [
            "WARNING:tensorflow:Layer lstm will not use cuDNN kernels since it doesn't meet the criteria. It will use a generic GPU kernel as fallback when running on GPU.\n"
          ]
        }
      ],
      "source": [
        "# Complex one\n",
        "model = Sequential([\n",
        "    Embedding(num_words, 92, input_length=input_vector_length),\n",
        "    LSTM(64, activation='relu', dropout=0.1),\n",
        "    Dense(32, activation='relu'),\n",
        "    Dense(24, activation='relu'),\n",
        "    Dense(y_train.shape[1], activation=\"sigmoid\")\n",
        "])"
      ]
    },
    {
      "cell_type": "code",
      "execution_count": null,
      "metadata": {
        "colab": {
          "base_uri": "https://localhost:8080/"
        },
        "id": "oaVW5fhGyimb",
        "outputId": "5abd4e0d-6e78-4a13-a6c6-6d388940696f"
      },
      "outputs": [
        {
          "name": "stdout",
          "output_type": "stream",
          "text": [
            "Model: \"sequential\"\n",
            "_________________________________________________________________\n",
            " Layer (type)                Output Shape              Param #   \n",
            "=================================================================\n",
            " embedding (Embedding)       (None, 233, 92)           678132    \n",
            "                                                                 \n",
            " lstm (LSTM)                 (None, 64)                40192     \n",
            "                                                                 \n",
            " dense (Dense)               (None, 32)                2080      \n",
            "                                                                 \n",
            " dense_1 (Dense)             (None, 24)                792       \n",
            "                                                                 \n",
            " dense_2 (Dense)             (None, 19)                475       \n",
            "                                                                 \n",
            "=================================================================\n",
            "Total params: 721,671\n",
            "Trainable params: 721,671\n",
            "Non-trainable params: 0\n",
            "_________________________________________________________________\n"
          ]
        }
      ],
      "source": [
        "model.summary()"
      ]
    },
    {
      "cell_type": "code",
      "execution_count": null,
      "metadata": {
        "id": "2zZ-qWbD0KZ3"
      },
      "outputs": [],
      "source": [
        "from tensorflow.keras.optimizers import Adam"
      ]
    },
    {
      "cell_type": "code",
      "execution_count": null,
      "metadata": {
        "id": "YtEvfghM0E_s"
      },
      "outputs": [],
      "source": [
        "model.compile(loss='binary_crossentropy', optimizer=Adam(learning_rate=0.001), metrics = ['accuracy'])"
      ]
    },
    {
      "cell_type": "code",
      "execution_count": null,
      "metadata": {
        "colab": {
          "base_uri": "https://localhost:8080/"
        },
        "id": "vnPPvKZQ0yEo",
        "outputId": "fc2a78ab-efab-421d-f995-17c1250e245d"
      },
      "outputs": [
        {
          "name": "stdout",
          "output_type": "stream",
          "text": [
            "38/38 [==============================] - 5s 34ms/step - loss: 0.6929 - accuracy: 0.0174\n"
          ]
        },
        {
          "data": {
            "text/plain": [
              "[0.6929388046264648, 0.017412934452295303]"
            ]
          },
          "execution_count": 98,
          "metadata": {},
          "output_type": "execute_result"
        }
      ],
      "source": [
        "model.evaluate(X_train_padded, y_train)"
      ]
    },
    {
      "cell_type": "code",
      "execution_count": null,
      "metadata": {
        "colab": {
          "base_uri": "https://localhost:8080/"
        },
        "id": "hCiNnCs_0-Rl",
        "outputId": "c1e04439-1cf0-44ac-a4e0-1c4b0cc22765"
      },
      "outputs": [
        {
          "name": "stdout",
          "output_type": "stream",
          "text": [
            "10/10 [==============================] - 0s 35ms/step - loss: 0.6929 - accuracy: 0.0167\n"
          ]
        },
        {
          "data": {
            "text/plain": [
              "[0.6929454207420349, 0.016722407191991806]"
            ]
          },
          "execution_count": 99,
          "metadata": {},
          "output_type": "execute_result"
        }
      ],
      "source": [
        "model.evaluate(X_test_padded, y_test)"
      ]
    },
    {
      "cell_type": "code",
      "execution_count": null,
      "metadata": {
        "colab": {
          "base_uri": "https://localhost:8080/"
        },
        "id": "PiaWdU3i1GlI",
        "outputId": "ff938252-8ae9-4bd7-ae17-454b2f5dd4e4"
      },
      "outputs": [
        {
          "name": "stdout",
          "output_type": "stream",
          "text": [
            "Epoch 1/10\n",
            "38/38 [==============================] - 26s 615ms/step - loss: 1022958784.0000 - accuracy: 0.2595\n",
            "Epoch 2/10\n",
            "38/38 [==============================] - 21s 556ms/step - loss: 0.4722 - accuracy: 0.1808\n",
            "Epoch 3/10\n",
            "38/38 [==============================] - 22s 572ms/step - loss: 0.4343 - accuracy: 0.0066\n",
            "Epoch 4/10\n",
            "38/38 [==============================] - 19s 499ms/step - loss: 0.4037 - accuracy: 0.0083\n",
            "Epoch 5/10\n",
            "38/38 [==============================] - 21s 555ms/step - loss: 0.3792 - accuracy: 0.2355\n",
            "Epoch 6/10\n",
            "38/38 [==============================] - 18s 473ms/step - loss: 0.3600 - accuracy: 0.2405\n",
            "Epoch 7/10\n",
            "38/38 [==============================] - 20s 516ms/step - loss: 0.3446 - accuracy: 0.2405\n",
            "Epoch 8/10\n",
            "38/38 [==============================] - 18s 482ms/step - loss: 0.3321 - accuracy: 0.2405\n",
            "Epoch 9/10\n",
            "38/38 [==============================] - 21s 548ms/step - loss: 0.3214 - accuracy: 0.2405\n",
            "Epoch 10/10\n",
            "38/38 [==============================] - 18s 487ms/step - loss: 0.3124 - accuracy: 0.2405\n"
          ]
        }
      ],
      "source": [
        "history = model.fit(X_train_padded, y_train, epochs=10)"
      ]
    },
    {
      "cell_type": "markdown",
      "metadata": {
        "id": "uhW8nVN11uhR"
      },
      "source": [
        "### Evaluation"
      ]
    },
    {
      "cell_type": "code",
      "execution_count": null,
      "metadata": {
        "colab": {
          "base_uri": "https://localhost:8080/"
        },
        "id": "f7sX1V2T1g0G",
        "outputId": "18796754-eade-44a2-d17d-9d9ad2585d92"
      },
      "outputs": [
        {
          "name": "stdout",
          "output_type": "stream",
          "text": [
            "10/10 [==============================] - 1s 33ms/step - loss: 0.3113 - accuracy: 0.2408\n"
          ]
        },
        {
          "data": {
            "text/plain": [
              "[0.3112863004207611, 0.24080267548561096]"
            ]
          },
          "execution_count": 105,
          "metadata": {},
          "output_type": "execute_result"
        }
      ],
      "source": [
        "model.evaluate(X_test_padded, y_test)"
      ]
    },
    {
      "cell_type": "code",
      "execution_count": null,
      "metadata": {
        "colab": {
          "base_uri": "https://localhost:8080/"
        },
        "id": "bsnfnyDj1ng0",
        "outputId": "d77ba800-9064-4cdc-85b2-694a51baf6cc"
      },
      "outputs": [
        {
          "name": "stdout",
          "output_type": "stream",
          "text": [
            "10/10 [==============================] - 0s 31ms/step\n"
          ]
        }
      ],
      "source": [
        "prediction_probas = model.predict(X_test_padded)"
      ]
    },
    {
      "cell_type": "markdown",
      "metadata": {
        "id": "3jwKkzdJ2Oxv"
      },
      "source": [
        "### Setting evaluation metric"
      ]
    },
    {
      "cell_type": "code",
      "execution_count": 81,
      "metadata": {
        "id": "8eV_d19a63t1"
      },
      "outputs": [],
      "source": [
        "def metrics(y_test, predictions):\n",
        "  accuracies = dict()\n",
        "  recalls = dict()\n",
        "  precisions = dict()\n",
        "  f1_scores = dict()\n",
        "  for columns_index in range(y_test.shape[1]):\n",
        "    true_positives = 0\n",
        "    false_positives = 0\n",
        "    true_negatives = 0\n",
        "    false_negatives = 0\n",
        "    for data_point_index in range(y_test.shape[0]):\n",
        "      if(y_test.values[data_point_index][columns_index] == 1 and predictions[data_point_index][columns_index] == 1):\n",
        "        true_positives += 1\n",
        "      if(y_test.values[data_point_index][columns_index] == 0 and predictions[data_point_index][columns_index] == 0):\n",
        "        true_negatives += 1\n",
        "      if(y_test.values[data_point_index][columns_index] == 1 and predictions[data_point_index][columns_index] == 0):\n",
        "        false_negatives += 1\n",
        "      if(y_test.values[data_point_index][columns_index] == 0 and predictions[data_point_index][columns_index] == 1):\n",
        "        false_positives += 1\n",
        "    accuracies[y_test.columns[columns_index]] = (true_positives + true_negatives) / y_test.shape[0]\n",
        "    if (true_positives + false_negatives) == 0:\n",
        "      recalls[y_test.columns[columns_index]] = 0\n",
        "    else:\n",
        "      recalls[y_test.columns[columns_index]] = true_positives / (true_positives + false_negatives)\n",
        "    if (true_positives + false_positives) == 0:\n",
        "      precisions[y_test.columns[columns_index]] = 0\n",
        "    else:\n",
        "      precisions[y_test.columns[columns_index]] = true_positives / (true_positives + false_positives)\n",
        "    if ( recalls[y_test.columns[columns_index]] + precisions[y_test.columns[columns_index]] ) != 0:\n",
        "      f1_scores[y_test.columns[columns_index]] = 2 * ( recalls[y_test.columns[columns_index]] * precisions[y_test.columns[columns_index]] ) / ( recalls[y_test.columns[columns_index]] + precisions[y_test.columns[columns_index]] )\n",
        "    else:\n",
        "      f1_scores[y_test.columns[columns_index]] = 0\n",
        "  return accuracies, recalls, precisions, f1_scores"
      ]
    },
    {
      "cell_type": "code",
      "execution_count": 82,
      "metadata": {
        "id": "_7JHN_IT2LYr"
      },
      "outputs": [],
      "source": [
        "def get_predictions(prediction_probas, threshold):\n",
        "  predictions = []\n",
        "\n",
        "  for probas in prediction_probas:\n",
        "    prediction = []\n",
        "    for proba in probas:\n",
        "      if proba > threshold:\n",
        "        prediction.append(1)\n",
        "      else:\n",
        "        prediction.append(0)\n",
        "    predictions.append(prediction)\n",
        "  return predictions"
      ]
    },
    {
      "cell_type": "code",
      "execution_count": null,
      "metadata": {
        "id": "4wtubt0b7rOj"
      },
      "outputs": [],
      "source": [
        "predictions = get_predictions(prediction_probas, 0.2)\n",
        "accuracies, recalls, precisions, f1_scores = metrics(y_test_df, predictions)"
      ]
    },
    {
      "cell_type": "code",
      "execution_count": null,
      "metadata": {
        "colab": {
          "base_uri": "https://localhost:8080/"
        },
        "id": "-DNtPa806ibZ",
        "outputId": "511e852f-0ce7-43ae-e737-2c1480021270"
      },
      "outputs": [],
      "source": [
        "for column in y_test_df.columns:\n",
        "  print(f\"{column} Evaluation :\\n-> accuracy = {accuracies[column]:.2f} \\n-> recall = {recalls[column]:.2f} \\n-> precision = {precisions[column]:.2f} \\n-> f1_scores = {f1_scores[column]:.2f}\\n\")"
      ]
    },
    {
      "cell_type": "markdown",
      "metadata": {
        "id": "H3QK03dlTcQX"
      },
      "source": [
        "Basic models didn't work"
      ]
    },
    {
      "cell_type": "markdown",
      "metadata": {
        "id": "FA9IovzUkPMa"
      },
      "source": [
        "### Trying a Large Language Model : BERT"
      ]
    },
    {
      "cell_type": "code",
      "execution_count": null,
      "metadata": {
        "colab": {
          "base_uri": "https://localhost:8080/"
        },
        "id": "PMQ3KBLSp8zM",
        "outputId": "9410565d-077d-43b9-fbda-a37d91ea1688"
      },
      "outputs": [],
      "source": [
        "!pip install transformers"
      ]
    },
    {
      "cell_type": "code",
      "execution_count": 84,
      "metadata": {
        "colab": {
          "base_uri": "https://localhost:8080/"
        },
        "id": "VwL5Tw36UhFz",
        "outputId": "d7e85472-002f-468e-92e7-25a98fe3b39f"
      },
      "outputs": [
        {
          "name": "stderr",
          "output_type": "stream",
          "text": [
            "All model checkpoint layers were used when initializing TFBertForSequenceClassification.\n",
            "\n",
            "Some layers of TFBertForSequenceClassification were not initialized from the model checkpoint at bert-base-uncased and are newly initialized: ['classifier']\n",
            "You should probably TRAIN this model on a down-stream task to be able to use it for predictions and inference.\n"
          ]
        }
      ],
      "source": [
        "import tensorflow as tf\n",
        "import transformers\n",
        "\n",
        "tokenizer = transformers.AutoTokenizer.from_pretrained('bert-base-uncased')\n",
        "\n",
        "model = transformers.TFAutoModelForSequenceClassification.from_pretrained('bert-base-uncased', num_labels=y.shape[1])"
      ]
    },
    {
      "cell_type": "code",
      "execution_count": 85,
      "metadata": {
        "id": "otMehGKDW6mq"
      },
      "outputs": [],
      "source": [
        "batch_size = 64\n",
        "learning_rate = 1e-4\n",
        "num_epochs = 30\n",
        "callback_threshold = 0.1\n",
        "\n",
        "optimizer = tf.keras.optimizers.Adam(learning_rate=learning_rate)\n",
        "loss = tf.keras.losses.BinaryCrossentropy(from_logits=True)\n",
        "\n",
        "model.compile(optimizer=optimizer, loss=loss, metrics=['accuracy'])"
      ]
    },
    {
      "cell_type": "code",
      "execution_count": 86,
      "metadata": {
        "id": "-PBMdBwiWy_Q"
      },
      "outputs": [],
      "source": [
        "train_texts = X_train.flatten().tolist()\n",
        "train_labels = y_train\n",
        "train_encodings = tokenizer(train_texts, truncation=True, padding=True)\n",
        "\n",
        "train_dataset = tf.data.Dataset.from_tensor_slices((dict(train_encodings), train_labels)).shuffle(len(train_labels)).batch(batch_size)"
      ]
    },
    {
      "cell_type": "code",
      "execution_count": 87,
      "metadata": {
        "id": "f7gEaCBGfShP"
      },
      "outputs": [],
      "source": [
        "from keras.callbacks import Callback\n",
        "\n",
        "class LossCallback(Callback):\n",
        "    def __init__(self, threshold):\n",
        "        super(LossCallback, self).__init__()\n",
        "        self.threshold = threshold\n",
        "        self.best_loss = float('inf')\n",
        "\n",
        "    def on_epoch_end(self, epoch, logs=None):\n",
        "        current_loss = logs.get('loss')\n",
        "        if current_loss < ( self.best_loss ):\n",
        "            self.best_loss = current_loss\n",
        "        elif current_loss > (self.best_loss + self.threshold):\n",
        "            self.model.stop_training = True\n",
        "            print(f'\\nStopping training due to lack of loss increase (epoch {epoch})')"
      ]
    },
    {
      "cell_type": "code",
      "execution_count": null,
      "metadata": {
        "colab": {
          "base_uri": "https://localhost:8080/"
        },
        "id": "1qSWRgwCW9NR",
        "outputId": "14a140d6-098e-4de5-d442-f857dac521ca"
      },
      "outputs": [],
      "source": [
        "model.fit(train_dataset, epochs=num_epochs , callbacks=[LossCallback(callback_threshold)])"
      ]
    },
    {
      "cell_type": "code",
      "execution_count": null,
      "metadata": {
        "colab": {
          "base_uri": "https://localhost:8080/"
        },
        "id": "NrwponNSwUbD",
        "outputId": "6a2875fb-f6a6-47da-89f3-9d3a59e16fa5"
      },
      "outputs": [],
      "source": [
        "model.save_pretrained('/content/model')\n",
        "tokenizer.save_pretrained('/content/tokenizer')"
      ]
    },
    {
      "cell_type": "code",
      "execution_count": 90,
      "metadata": {
        "colab": {
          "base_uri": "https://localhost:8080/"
        },
        "id": "WNaWLuZ8NWm4",
        "outputId": "1a93a0bc-9fec-4e17-8084-7d2c1e82eeaa"
      },
      "outputs": [
        {
          "data": {
            "text/plain": [
              "array([0.5, 0.3, 0.3, 0.2, 0.2, 0.2, 0.1, 0.1, 0.1, 0.1, 0.1, 0.1, 0.1,\n",
              "       0.1, 0.1, 0.1, 0.1, 0.1, 0.1])"
            ]
          },
          "execution_count": 90,
          "metadata": {},
          "output_type": "execute_result"
        }
      ],
      "source": [
        "thresholds = []\n",
        "\n",
        "for trained_label_size in y_train_df.sum(axis=0):\n",
        "  thresholds.append( ((trained_label_size // 100) + 1) / 10 )\n",
        "\n",
        "np.array(thresholds)"
      ]
    },
    {
      "cell_type": "code",
      "execution_count": 91,
      "metadata": {
        "colab": {
          "base_uri": "https://localhost:8080/"
        },
        "id": "gMNZe41PoI5m",
        "outputId": "5d5101ea-0945-4cbf-c797-421ff989cf34"
      },
      "outputs": [
        {
          "name": "stdout",
          "output_type": "stream",
          "text": [
            "5/5 [==============================] - 4s 188ms/step\n"
          ]
        }
      ],
      "source": [
        "test_texts = X_test.flatten().tolist()\n",
        "test_labels = y_test\n",
        "test_encodings = tokenizer(test_texts, truncation=True, padding=True)\n",
        "test_dataset = tf.data.Dataset.from_tensor_slices((dict(test_encodings), test_labels)).batch(batch_size)\n",
        "test_outputs = model.predict(test_dataset)"
      ]
    },
    {
      "cell_type": "code",
      "execution_count": 92,
      "metadata": {
        "id": "_v8CDUCAOeNY"
      },
      "outputs": [],
      "source": [
        "prediction_probas = tf.math.sigmoid(test_outputs.logits).numpy()"
      ]
    },
    {
      "cell_type": "code",
      "execution_count": 93,
      "metadata": {
        "id": "XNNRIM5cO1vD"
      },
      "outputs": [],
      "source": [
        "def get_dynamic_predictions(prediction_probas, thresholds):\n",
        "  predictions = []\n",
        "\n",
        "  for probas in prediction_probas:\n",
        "    prediction = []\n",
        "    for columns_index, proba in enumerate(probas):\n",
        "      if proba > thresholds[index]:\n",
        "        prediction.append(1)\n",
        "      else:\n",
        "        prediction.append(0)\n",
        "    predictions.append(prediction)\n",
        "  return predictions"
      ]
    },
    {
      "cell_type": "code",
      "execution_count": 94,
      "metadata": {
        "id": "9hHhdanMwCmm"
      },
      "outputs": [],
      "source": [
        "predictions = get_dynamic_predictions(prediction_probas, thresholds)"
      ]
    },
    {
      "cell_type": "code",
      "execution_count": 95,
      "metadata": {
        "id": "hQxniKt0v_fL"
      },
      "outputs": [],
      "source": [
        "accuracies, recalls, precisions, f1_scores = metrics(y_test_df, predictions)"
      ]
    },
    {
      "cell_type": "code",
      "execution_count": null,
      "metadata": {
        "colab": {
          "base_uri": "https://localhost:8080/"
        },
        "id": "3Qqw_jp4wBsY",
        "outputId": "fb02ef3b-4465-4cd5-93d0-4ef02f834601"
      },
      "outputs": [],
      "source": [
        "#\\n-> accuracy = {accuracies[column]:.2f}\n",
        "for column in y_test_df.columns:\n",
        "  print(f\"{column} : --> f1_scores = {f1_scores[column]:.2f} \\n---[ recall = {recalls[column]:.2f} \\n---[ precision = {precisions[column]:.2f} \\n\")"
      ]
    },
    {
      "cell_type": "code",
      "execution_count": 97,
      "metadata": {
        "id": "5tuCXtI9UBON"
      },
      "outputs": [],
      "source": [
        "trained_label_size = y_train_df.sum(axis=0)"
      ]
    },
    {
      "cell_type": "code",
      "execution_count": 101,
      "metadata": {
        "id": "RoQkNBvFUcq2"
      },
      "outputs": [],
      "source": [
        "f1_scores_list = f1_scores.values()"
      ]
    },
    {
      "cell_type": "code",
      "execution_count": 104,
      "metadata": {
        "id": "ykXivbDuUyti"
      },
      "outputs": [],
      "source": [
        "f1_scores_rounded = [round(f1_score, 2) for f1_score in f1_scores_list]"
      ]
    },
    {
      "cell_type": "code",
      "execution_count": 105,
      "metadata": {
        "colab": {
          "base_uri": "https://localhost:8080/",
          "height": 422
        },
        "id": "_NAmNO7WTg4N",
        "outputId": "5416a3bd-0d8a-48e9-a422-d4c1b034f522"
      },
      "outputs": [
        {
          "name": "stderr",
          "output_type": "stream",
          "text": [
            "WARNING:matplotlib.legend:No artists with labels found to put in legend.  Note that artists whose label start with an underscore are ignored when legend() is called with no argument.\n"
          ]
        },
        {
          "data": {
            "image/png": "[encoded data removed]",
            "text/plain": [
              "<Figure size 1440x432 with 1 Axes>"
            ]
          },
          "metadata": {
            "needs_background": "light"
          },
          "output_type": "display_data"
        }
      ],
      "source": [
        "fig = plt.figure(figsize=(20, 6))\n",
        "\n",
        "plt.bar(trained_label_size, f1_scores_rounded, width=0.5)\n",
        "plt.xlabel('Training labels size')\n",
        "plt.ylabel('F1_score')\n",
        "plt.title('F1 scores relative to train_data')\n",
        "plt.legend()\n",
        "\n",
        "plt.show()"
      ]
    },
    {
      "cell_type": "markdown",
      "metadata": {
        "id": "fQq0CuOKskrZ"
      },
      "source": [
        "### Visualize performance"
      ]
    },
    {
      "cell_type": "code",
      "execution_count": 115,
      "metadata": {
        "colab": {
          "base_uri": "https://localhost:8080/",
          "height": 1000
        },
        "id": "23Z11XudsD8M",
        "outputId": "000c9380-1740-409a-cd76-a6f199a404d4"
      },
      "outputs": [
        {
          "name": "stderr",
          "output_type": "stream",
          "text": [
            "<ipython-input-115-46db45801b29>:18: UserWarning: FixedFormatter should only be used together with FixedLocator\n",
            "  ax.set_xticklabels(x ,rotation=-90)\n"
          ]
        },
        {
          "data": {
            "image/png": "[encoded data removed]",
            "text/plain": [
              "<Figure size 1440x432 with 1 Axes>"
            ]
          },
          "metadata": {
            "needs_background": "light"
          },
          "output_type": "display_data"
        },
        {
          "name": "stderr",
          "output_type": "stream",
          "text": [
            "<ipython-input-115-46db45801b29>:18: UserWarning: FixedFormatter should only be used together with FixedLocator\n",
            "  ax.set_xticklabels(x ,rotation=-90)\n"
          ]
        },
        {
          "data": {
            "image/png": "[encoded data removed]",
            "text/plain": [
              "<Figure size 1440x432 with 1 Axes>"
            ]
          },
          "metadata": {
            "needs_background": "light"
          },
          "output_type": "display_data"
        },
        {
          "name": "stderr",
          "output_type": "stream",
          "text": [
            "<ipython-input-115-46db45801b29>:18: UserWarning: FixedFormatter should only be used together with FixedLocator\n",
            "  ax.set_xticklabels(x ,rotation=-90)\n"
          ]
        },
        {
          "data": {
            "image/png": "[encoded data removed]",
            "text/plain": [
              "<Figure size 1440x432 with 1 Axes>"
            ]
          },
          "metadata": {
            "needs_background": "light"
          },
          "output_type": "display_data"
        },
        {
          "name": "stderr",
          "output_type": "stream",
          "text": [
            "<ipython-input-115-46db45801b29>:18: UserWarning: FixedFormatter should only be used together with FixedLocator\n",
            "  ax.set_xticklabels(x ,rotation=-90)\n"
          ]
        },
        {
          "data": {
            "image/png": "[encoded data removed]",
            "text/plain": [
              "<Figure size 1440x432 with 1 Axes>"
            ]
          },
          "metadata": {
            "needs_background": "light"
          },
          "output_type": "display_data"
        }
      ],
      "source": [
        "metric_names = ['accuracy', 'recall', 'precision', 'f1_score']\n",
        "metric_values = [accuracies, recalls, precisions, f1_scores]\n",
        "\n",
        "bar_width = 0.2\n",
        "spacing = 0.05\n",
        "\n",
        "for index, metric_name in enumerate(metric_names):\n",
        "  fig, ax = plt.subplots(figsize=(20, 6))\n",
        "\n",
        "  x = y_test_df.columns\n",
        "  y = metric_values[index].values()\n",
        "\n",
        "  ax.bar(x, y, width=0.2)\n",
        "\n",
        "  plt.xlabel(\"Categories\")\n",
        "  plt.ylabel(metric_name)\n",
        "  plt.title(metric_name+\" evaluation\")\n",
        "  ax.set_xticklabels(x ,rotation=-90)\n",
        "\n",
        "  plt.show()"
      ]
    }
  ],
  "metadata": {
    "accelerator": "GPU",
    "colab": {
      "collapsed_sections": [
        "r57Zwg76RD38",
        "gIrG9q9XTU7B",
        "sjt6n1TJRVPH",
        "w-ZTkGjO6ymW",
        "4kYpXwe_my0I",
        "G835ij_Knkcu",
        "f-CCNDGE5sQq",
        "uxvuj3hRnrQh",
        "4-DjwmtQnxKV",
        "vA0GeD8bAHAK",
        "uhW8nVN11uhR"
      ],
      "include_colab_link": true,
      "provenance": []
    },
    "gpuClass": "standard",
    "kernelspec": {
      "display_name": "Python 3",
      "name": "python3"
    },
    "language_info": {
      "name": "python"
    }
  },
  "nbformat": 4,
  "nbformat_minor": 0
}
